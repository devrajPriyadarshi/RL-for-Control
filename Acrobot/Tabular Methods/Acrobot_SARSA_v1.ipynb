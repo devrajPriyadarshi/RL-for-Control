{
 "cells": [
  {
   "cell_type": "code",
   "execution_count": 1,
   "id": "5349cf39",
   "metadata": {},
   "outputs": [
    {
     "name": "stdout",
     "output_type": "stream",
     "text": [
      "Defaulting to user installation because normal site-packages is not writeable\n",
      "Requirement already satisfied: gym[classic_control] in /home/rahul/.local/lib/python3.6/site-packages (0.25.2)\n",
      "Requirement already satisfied: dataclasses==0.8 in /home/rahul/.local/lib/python3.6/site-packages (from gym[classic_control]) (0.8)\n",
      "Requirement already satisfied: gym-notices>=0.0.4 in /home/rahul/.local/lib/python3.6/site-packages (from gym[classic_control]) (0.0.8)\n",
      "Requirement already satisfied: importlib-metadata>=4.8.0 in /home/rahul/.local/lib/python3.6/site-packages (from gym[classic_control]) (4.8.3)\n",
      "Requirement already satisfied: cloudpickle>=1.2.0 in /home/rahul/.local/lib/python3.6/site-packages (from gym[classic_control]) (2.1.0)\n",
      "Requirement already satisfied: numpy>=1.18.0 in /home/rahul/.local/lib/python3.6/site-packages (from gym[classic_control]) (1.19.5)\n",
      "Requirement already satisfied: pygame==2.1.0 in /home/rahul/.local/lib/python3.6/site-packages (from gym[classic_control]) (2.1.0)\n",
      "Requirement already satisfied: typing-extensions>=3.6.4 in /home/rahul/.local/lib/python3.6/site-packages (from importlib-metadata>=4.8.0->gym[classic_control]) (4.1.1)\n",
      "Requirement already satisfied: zipp>=0.5 in /home/rahul/.local/lib/python3.6/site-packages (from importlib-metadata>=4.8.0->gym[classic_control]) (3.6.0)\n",
      "Defaulting to user installation because normal site-packages is not writeable\n",
      "Requirement already satisfied: tqdm in /home/rahul/.local/lib/python3.6/site-packages (4.60.0)\n",
      "Defaulting to user installation because normal site-packages is not writeable\n",
      "Requirement already satisfied: gym[box2d] in /home/rahul/.local/lib/python3.6/site-packages (0.25.2)\n",
      "Requirement already satisfied: dataclasses==0.8 in /home/rahul/.local/lib/python3.6/site-packages (from gym[box2d]) (0.8)\n",
      "Requirement already satisfied: cloudpickle>=1.2.0 in /home/rahul/.local/lib/python3.6/site-packages (from gym[box2d]) (2.1.0)\n",
      "Requirement already satisfied: numpy>=1.18.0 in /home/rahul/.local/lib/python3.6/site-packages (from gym[box2d]) (1.19.5)\n",
      "Requirement already satisfied: gym-notices>=0.0.4 in /home/rahul/.local/lib/python3.6/site-packages (from gym[box2d]) (0.0.8)\n",
      "Requirement already satisfied: importlib-metadata>=4.8.0 in /home/rahul/.local/lib/python3.6/site-packages (from gym[box2d]) (4.8.3)\n",
      "Requirement already satisfied: box2d-py==2.3.5 in /home/rahul/.local/lib/python3.6/site-packages (from gym[box2d]) (2.3.5)\n",
      "Requirement already satisfied: pygame==2.1.0 in /home/rahul/.local/lib/python3.6/site-packages (from gym[box2d]) (2.1.0)\n",
      "Requirement already satisfied: swig==4.* in /home/rahul/.local/lib/python3.6/site-packages (from gym[box2d]) (4.0.2)\n",
      "Requirement already satisfied: typing-extensions>=3.6.4 in /home/rahul/.local/lib/python3.6/site-packages (from importlib-metadata>=4.8.0->gym[box2d]) (4.1.1)\n",
      "Requirement already satisfied: zipp>=0.5 in /home/rahul/.local/lib/python3.6/site-packages (from importlib-metadata>=4.8.0->gym[box2d]) (3.6.0)\n"
     ]
    }
   ],
   "source": [
    "!pip install gym[classic_control]\n",
    "!pip install tqdm\n",
    "!pip install gym[box2d]"
   ]
  },
  {
   "cell_type": "code",
   "execution_count": 2,
   "id": "61676a49",
   "metadata": {},
   "outputs": [
    {
     "name": "stderr",
     "output_type": "stream",
     "text": [
      "/home/rahul/.local/lib/python3.6/site-packages/gym/core.py:26: UserWarning: \u001b[33mWARN: Gym minimally supports python 3.6 as the python foundation not longer supports the version, please update your version to 3.7+\u001b[0m\n",
      "  \"Gym minimally supports python 3.6 as the python foundation not longer supports the version, please update your version to 3.7+\"\n"
     ]
    }
   ],
   "source": [
    "import numpy as np\n",
    "import gym\n",
    "import random\n",
    "from tqdm import tqdm\n",
    "import matplotlib.pyplot as plt \n",
    "import random\n",
    "import math\n",
    "# import progressbar\n",
    "import time"
   ]
  },
  {
   "cell_type": "code",
   "execution_count": 3,
   "id": "fe28abf4",
   "metadata": {},
   "outputs": [],
   "source": [
    "env_name = \"Acrobot-v1\"\n",
    "render_Mode = \"human\"\n",
    "# env = gym.make(env_name)"
   ]
  },
  {
   "cell_type": "code",
   "execution_count": 4,
   "id": "ce69cf92",
   "metadata": {},
   "outputs": [],
   "source": [
    "def getAngle(cos_val, sin_val):   \n",
    "    a_acos = math.acos(cos_val)\n",
    "    angle = 0\n",
    "    if sin_val < 0:\n",
    "        angle = math.degrees(-a_acos) % 360\n",
    "    else: \n",
    "        angle = math.degrees(a_acos)\n",
    "    return angle"
   ]
  },
  {
   "cell_type": "code",
   "execution_count": 5,
   "id": "f572f89a",
   "metadata": {},
   "outputs": [],
   "source": [
    "def transformObs(obs):\n",
    "    ang1 = int(getAngle(obs[0], obs[1])/10)\n",
    "    ang2 = int(getAngle(obs[2], obs[3])/10)\n",
    "    new_obs = []\n",
    "    new_obs.append(ang1)\n",
    "    new_obs.append(ang2)\n",
    "    new_obs.append(int((obs[4] + 12.57)/2))\n",
    "    new_obs.append(int((obs[5] + 28.28)/2))\n",
    "    return new_obs"
   ]
  },
  {
   "cell_type": "code",
   "execution_count": 6,
   "id": "9a543317",
   "metadata": {},
   "outputs": [],
   "source": [
    "q = [[[[[0 for _ in range(3)] for _ in range(29)] for _ in range(13)] for _ in range(36)] for _ in range(36)]"
   ]
  },
  {
   "cell_type": "code",
   "execution_count": 7,
   "id": "e98134e5",
   "metadata": {},
   "outputs": [],
   "source": [
    "next_state = [[[[[(-1, -1, -1, -1) for _ in range(3)] for _ in range(29)] for _ in range(13)] for _ in range(36)] for _ in range(36)]"
   ]
  },
  {
   "cell_type": "code",
   "execution_count": 8,
   "id": "0f613b44",
   "metadata": {},
   "outputs": [],
   "source": [
    "gamma = 0.8\n",
    "alpha = 0.8"
   ]
  },
  {
   "cell_type": "code",
   "execution_count": 9,
   "id": "ccafbd8d",
   "metadata": {},
   "outputs": [],
   "source": [
    "def getAction(obs, epsilon):\n",
    "    a, b, c, d = int(obs[0]), int(obs[1]), int(obs[2]), int(obs[3]) \n",
    "    val = random.uniform(0,1)\n",
    "    if val <= epsilon:\n",
    "        return random.randint(0,2)\n",
    "    else:  \n",
    "        max_q_val = -20000000\n",
    "        req_act = 0\n",
    "        for act in range(0, 3):\n",
    "            if next_state[a][b][c][d][act] != (-1, -1, -1, -1) and q[a][b][c][d][act] >= max_q_val:\n",
    "                max_q_val = q[a][b][c][d][act]\n",
    "                req_act = act\n",
    "        return req_act "
   ]
  },
  {
   "cell_type": "code",
   "execution_count": 10,
   "id": "fcbcee00",
   "metadata": {},
   "outputs": [],
   "source": [
    "def performEpisode(epsilon):\n",
    "    Acrobot = gym.make(env_name)\n",
    "#     Acrobot = gym.make(env_name, render_mode=render_Mode)\n",
    "    pre_obs = Acrobot.reset()\n",
    "    pre_obs = transformObs(pre_obs)\n",
    "    act = getAction(pre_obs, epsilon)\n",
    "    done = False\n",
    "    while not done:\n",
    "        a, b, c, d = int(pre_obs[0]), int(pre_obs[1]), int(pre_obs[2]), int(pre_obs[3]) \n",
    "        pre_obs, reward, done, info = Acrobot.step(act)\n",
    "        pre_obs = transformObs(pre_obs)\n",
    "        act_next = getAction(pre_obs, epsilon)\n",
    "        a_n, b_n, c_n, d_n = int(pre_obs[0]), int(pre_obs[1]), int(pre_obs[2]), int(pre_obs[3])\n",
    "        next_state[a][b][c][d][act] = (a_n, b_n, c_n, d_n)\n",
    "        q[a][b][c][d][act] = q[a][b][c][d][act] + alpha*(reward + gamma*q[a_n][b_n][c_n][d_n][act_next] - q[a][b][c][d][act])\n",
    "        act = act_next\n",
    "    Acrobot.close()"
   ]
  },
  {
   "cell_type": "code",
   "execution_count": 11,
   "id": "443f2d69",
   "metadata": {},
   "outputs": [],
   "source": [
    "def getReward():\n",
    "    Acrobot = gym.make(env_name)\n",
    "    pre_obs = Acrobot.reset() \n",
    "    pre_obs = transformObs(pre_obs)\n",
    "    done = False\n",
    "    tot_reward = 0\n",
    "    while not done:\n",
    "        a, b, c, d = int(pre_obs[0]), int(pre_obs[1]), int(pre_obs[2]), int(pre_obs[3])\n",
    "        req_act = getAction(pre_obs, -1)\n",
    "        pre_obs, reward, done, info = Acrobot.step(req_act)\n",
    "        tot_reward += reward\n",
    "        pre_obs = transformObs(pre_obs)   \n",
    "    Acrobot.close() \n",
    "    return tot_reward"
   ]
  },
  {
   "cell_type": "code",
   "execution_count": 12,
   "id": "843a33a2",
   "metadata": {},
   "outputs": [
    {
     "name": "stderr",
     "output_type": "stream",
     "text": [
      "Loading…:   0%|                                                          | 0/200000 [00:00<?, ?it/s]/home/rahul/.local/lib/python3.6/site-packages/gym/core.py:318: DeprecationWarning: \u001b[33mWARN: Initializing wrapper in old step API which returns one bool instead of two. It is recommended to set `new_step_api=True` to use new step API. This will be the default behaviour in future.\u001b[0m\n",
      "  \"Initializing wrapper in old step API which returns one bool instead of two. It is recommended to set `new_step_api=True` to use new step API. This will be the default behaviour in future.\"\n",
      "/home/rahul/.local/lib/python3.6/site-packages/gym/wrappers/step_api_compatibility.py:40: DeprecationWarning: \u001b[33mWARN: Initializing environment in old step API which returns one bool instead of two. It is recommended to set `new_step_api=True` to use new step API. This will be the default behaviour in future.\u001b[0m\n",
      "  \"Initializing environment in old step API which returns one bool instead of two. It is recommended to set `new_step_api=True` to use new step API. This will be the default behaviour in future.\"\n",
      "Loading…: 100%|███████████████████████████████████████████| 200000/200000 [3:19:59<00:00, 16.67it/s]\n"
     ]
    }
   ],
   "source": [
    "x_rew = []\n",
    "avg_reww = []\n",
    "orig_reww = []\n",
    "epsilon_val = 0.1\n",
    "for cnt in tqdm (range (200000), desc=\"Loading…\", ascii=False, ncols=100):\n",
    "    performEpisode(epsilon_val)\n",
    "    if cnt>0 and cnt%2000 == 0:\n",
    "        rew = 0\n",
    "        orig_reww.append(getReward())\n",
    "        for _ in range(200):\n",
    "            rew += getReward()\n",
    "        avg_reww.append(rew/200)    \n",
    "        x_rew.append(cnt/2000)"
   ]
  },
  {
   "cell_type": "code",
   "execution_count": 13,
   "id": "8b8425e9",
   "metadata": {},
   "outputs": [
    {
     "data": {
      "image/png": "[encoded data removed]",
      "text/plain": [
       "<matplotlib.figure.Figure at 0x7fac8fe92dd8>"
      ]
     },
     "metadata": {
      "needs_background": "light"
     },
     "output_type": "display_data"
    }
   ],
   "source": [
    "plt.plot(x_rew, avg_reww)\n",
    "plt.xlabel(\"Episodes\")\n",
    "plt.ylabel(\"Average Reward\")\n",
    "plt.show()"
   ]
  },
  {
   "cell_type": "code",
   "execution_count": 14,
   "id": "0f9ab5b3",
   "metadata": {},
   "outputs": [
    {
     "data": {
      "image/png": "[encoded data removed]",
      "text/plain": [
       "<matplotlib.figure.Figure at 0x7fac83af9320>"
      ]
     },
     "metadata": {
      "needs_background": "light"
     },
     "output_type": "display_data"
    }
   ],
   "source": [
    "plt.plot(x_rew, orig_reww)\n",
    "plt.xlabel(\"Episodes\")\n",
    "plt.ylabel(\"Single Reward\")\n",
    "plt.show()"
   ]
  },
  {
   "cell_type": "code",
   "execution_count": 15,
   "id": "d57fdff4",
   "metadata": {},
   "outputs": [
    {
     "name": "stdout",
     "output_type": "stream",
     "text": [
      "-204.0\n"
     ]
    }
   ],
   "source": [
    "Acrobot = gym.make(env_name)\n",
    "# Acrobot = gym.make(env_name, render_mode=render_Mode)\n",
    "pre_obs = Acrobot.reset() \n",
    "pre_obs = transformObs(pre_obs)\n",
    "done = False\n",
    "reward = 0\n",
    "while not done:\n",
    "    a, b, c, d = int(pre_obs[0]), int(pre_obs[1]), int(pre_obs[2]), int(pre_obs[3])\n",
    "    act = getAction(pre_obs, -1)\n",
    "    pre_obs, rew, done, info = Acrobot.step(act)\n",
    "    pre_obs = transformObs(pre_obs)\n",
    "    reward += rew\n",
    "Acrobot.close()    \n",
    "print(reward) "
   ]
  },
  {
   "cell_type": "code",
   "execution_count": 16,
   "id": "59b24257",
   "metadata": {},
   "outputs": [
    {
     "name": "stderr",
     "output_type": "stream",
     "text": [
      "Loading…: 100%|█████████████████████████████████████████████████| 1000/1000 [00:47<00:00, 20.84it/s]"
     ]
    },
    {
     "name": "stdout",
     "output_type": "stream",
     "text": [
      "Average reward: -293.195\n",
      "Highest Reward: -127.0\n",
      "Success Rate: 0.963\n",
      "[-127.0, -128.0, -136.0, -141.0, -142.0, -146.0, -146.0, -146.0, -148.0, -149.0, -149.0, -150.0, -150.0, -152.0, -153.0, -153.0, -157.0, -159.0, -160.0, -160.0, -161.0, -161.0, -163.0, -165.0, -165.0, -165.0, -166.0, -166.0, -166.0, -166.0, -167.0, -169.0, -170.0, -171.0, -171.0, -171.0, -172.0, -172.0, -172.0, -173.0, -173.0, -174.0, -174.0, -175.0, -175.0, -177.0, -179.0, -179.0, -180.0, -180.0]\n"
     ]
    },
    {
     "name": "stderr",
     "output_type": "stream",
     "text": [
      "\n"
     ]
    }
   ],
   "source": [
    "reward = 0\n",
    "min_iter = 500\n",
    "rew_list = []\n",
    "success = 0\n",
    "for _ in tqdm (range (1000), desc=\"Loading…\", ascii=False, ncols=100):\n",
    "    Acrobot = gym.make(env_name)\n",
    "    #Acrobot = gym.make(env_name, render_mode=render_Mode)\n",
    "    pre_obs = Acrobot.reset() \n",
    "    pre_obs = transformObs(pre_obs)\n",
    "    done = False\n",
    "    cur = 0\n",
    "    while not done:\n",
    "        a, b, c, d = int(pre_obs[0]), int(pre_obs[1]), int(pre_obs[2]), int(pre_obs[3])\n",
    "        act = getAction(pre_obs, -1)\n",
    "        pre_obs, rew, done, info = Acrobot.step(act)\n",
    "        pre_obs = transformObs(pre_obs)\n",
    "        cur += rew\n",
    "    reward += cur  \n",
    "    if cur > -500:\n",
    "        success += 1\n",
    "    min_iter = min(min_iter, -cur)\n",
    "    rew_list.append(cur)\n",
    "    Acrobot.close()\n",
    "rew_list.sort(reverse=True)   \n",
    "print(\"Average reward:\", reward/1000) \n",
    "print(\"Highest Reward:\", -min_iter)\n",
    "print(\"Success Rate:\", success/1000)\n",
    "print(rew_list[:50])"
   ]
  },
  {
   "cell_type": "code",
   "execution_count": 17,
   "id": "fdbd3086",
   "metadata": {},
   "outputs": [
    {
     "name": "stderr",
     "output_type": "stream",
     "text": [
      "Loading…: 100%|███████████████████████████████████████████████████| 100/100 [00:04<00:00, 20.17it/s]"
     ]
    },
    {
     "name": "stdout",
     "output_type": "stream",
     "text": [
      "Average reward: -297.19\n",
      "Highest Reward: -118.0\n",
      "Success Rate: 0.96\n",
      "[-118.0, -161.0, -163.0, -169.0, -170.0, -171.0, -172.0, -177.0, -186.0, -186.0, -194.0, -197.0, -202.0, -203.0, -205.0, -212.0, -215.0, -216.0, -217.0, -217.0, -218.0, -220.0, -220.0, -223.0, -225.0, -227.0, -227.0, -231.0, -231.0, -232.0, -232.0, -236.0, -237.0, -241.0, -242.0, -244.0, -245.0, -251.0, -251.0, -252.0, -254.0, -258.0, -261.0, -265.0, -265.0, -268.0, -269.0, -271.0, -273.0, -276.0]\n"
     ]
    },
    {
     "name": "stderr",
     "output_type": "stream",
     "text": [
      "\n"
     ]
    }
   ],
   "source": [
    "reward = 0\n",
    "min_iter = 500\n",
    "rew_list = []\n",
    "success = 0\n",
    "for _ in tqdm (range (100), desc=\"Loading…\", ascii=False, ncols=100):\n",
    "    Acrobot = gym.make(env_name)\n",
    "    #Acrobot = gym.make(env_name, render_mode=render_Mode)\n",
    "    pre_obs = Acrobot.reset() \n",
    "    pre_obs = transformObs(pre_obs)\n",
    "    done = False\n",
    "    cur = 0\n",
    "    while not done:\n",
    "        a, b, c, d = int(pre_obs[0]), int(pre_obs[1]), int(pre_obs[2]), int(pre_obs[3])\n",
    "        act = getAction(pre_obs, -1)\n",
    "        pre_obs, rew, done, info = Acrobot.step(act)\n",
    "        pre_obs = transformObs(pre_obs)\n",
    "        cur += rew\n",
    "    reward += cur  \n",
    "    if cur > -500:\n",
    "        success += 1\n",
    "    min_iter = min(min_iter, -cur)\n",
    "    rew_list.append(cur)\n",
    "    Acrobot.close()\n",
    "rew_list.sort(reverse=True)   \n",
    "print(\"Average reward:\", reward/100) \n",
    "print(\"Highest Reward:\", -min_iter)\n",
    "print(\"Success Rate:\", success/100)\n",
    "print(rew_list[:50])"
   ]
  },
  {
   "cell_type": "code",
   "execution_count": null,
   "id": "bf5fc105",
   "metadata": {},
   "outputs": [],
   "source": []
  }
 ],
 "metadata": {
  "kernelspec": {
   "display_name": "Python 3",
   "language": "python",
   "name": "python3"
  },
  "language_info": {
   "codemirror_mode": {
    "name": "ipython",
    "version": 3
   },
   "file_extension": ".py",
   "mimetype": "text/x-python",
   "name": "python",
   "nbconvert_exporter": "python",
   "pygments_lexer": "ipython3",
   "version": "3.6.9"
  }
 },
 "nbformat": 4,
 "nbformat_minor": 5
}
