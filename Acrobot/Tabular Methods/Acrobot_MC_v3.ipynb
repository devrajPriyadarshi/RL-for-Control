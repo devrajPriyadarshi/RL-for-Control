{
 "cells": [
  {
   "cell_type": "code",
   "execution_count": 1,
   "id": "26a9eac7",
   "metadata": {},
   "outputs": [
    {
     "name": "stdout",
     "output_type": "stream",
     "text": [
      "Defaulting to user installation because normal site-packages is not writeable\n",
      "Requirement already satisfied: gym[classic_control] in /home/rahul/.local/lib/python3.6/site-packages (0.25.2)\n",
      "Requirement already satisfied: dataclasses==0.8 in /home/rahul/.local/lib/python3.6/site-packages (from gym[classic_control]) (0.8)\n",
      "Requirement already satisfied: cloudpickle>=1.2.0 in /home/rahul/.local/lib/python3.6/site-packages (from gym[classic_control]) (2.1.0)\n",
      "Requirement already satisfied: numpy>=1.18.0 in /home/rahul/.local/lib/python3.6/site-packages (from gym[classic_control]) (1.19.5)\n",
      "Requirement already satisfied: gym-notices>=0.0.4 in /home/rahul/.local/lib/python3.6/site-packages (from gym[classic_control]) (0.0.8)\n",
      "Requirement already satisfied: importlib-metadata>=4.8.0 in /home/rahul/.local/lib/python3.6/site-packages (from gym[classic_control]) (4.8.3)\n",
      "Requirement already satisfied: pygame==2.1.0 in /home/rahul/.local/lib/python3.6/site-packages (from gym[classic_control]) (2.1.0)\n",
      "Requirement already satisfied: typing-extensions>=3.6.4 in /home/rahul/.local/lib/python3.6/site-packages (from importlib-metadata>=4.8.0->gym[classic_control]) (4.1.1)\n",
      "Requirement already satisfied: zipp>=0.5 in /home/rahul/.local/lib/python3.6/site-packages (from importlib-metadata>=4.8.0->gym[classic_control]) (3.6.0)\n",
      "Defaulting to user installation because normal site-packages is not writeable\n",
      "Requirement already satisfied: tqdm in /home/rahul/.local/lib/python3.6/site-packages (4.60.0)\n",
      "Defaulting to user installation because normal site-packages is not writeable\n",
      "Requirement already satisfied: gym[box2d] in /home/rahul/.local/lib/python3.6/site-packages (0.25.2)\n",
      "Requirement already satisfied: dataclasses==0.8 in /home/rahul/.local/lib/python3.6/site-packages (from gym[box2d]) (0.8)\n",
      "Requirement already satisfied: gym-notices>=0.0.4 in /home/rahul/.local/lib/python3.6/site-packages (from gym[box2d]) (0.0.8)\n",
      "Requirement already satisfied: cloudpickle>=1.2.0 in /home/rahul/.local/lib/python3.6/site-packages (from gym[box2d]) (2.1.0)\n",
      "Requirement already satisfied: importlib-metadata>=4.8.0 in /home/rahul/.local/lib/python3.6/site-packages (from gym[box2d]) (4.8.3)\n",
      "Requirement already satisfied: numpy>=1.18.0 in /home/rahul/.local/lib/python3.6/site-packages (from gym[box2d]) (1.19.5)\n",
      "Requirement already satisfied: swig==4.* in /home/rahul/.local/lib/python3.6/site-packages (from gym[box2d]) (4.0.2)\n",
      "Requirement already satisfied: box2d-py==2.3.5 in /home/rahul/.local/lib/python3.6/site-packages (from gym[box2d]) (2.3.5)\n",
      "Requirement already satisfied: pygame==2.1.0 in /home/rahul/.local/lib/python3.6/site-packages (from gym[box2d]) (2.1.0)\n",
      "Requirement already satisfied: zipp>=0.5 in /home/rahul/.local/lib/python3.6/site-packages (from importlib-metadata>=4.8.0->gym[box2d]) (3.6.0)\n",
      "Requirement already satisfied: typing-extensions>=3.6.4 in /home/rahul/.local/lib/python3.6/site-packages (from importlib-metadata>=4.8.0->gym[box2d]) (4.1.1)\n"
     ]
    }
   ],
   "source": [
    "!pip install gym[classic_control]\n",
    "!pip install tqdm\n",
    "!pip install gym[box2d]"
   ]
  },
  {
   "cell_type": "code",
   "execution_count": 2,
   "id": "ad73d906",
   "metadata": {},
   "outputs": [
    {
     "name": "stderr",
     "output_type": "stream",
     "text": [
      "/home/rahul/.local/lib/python3.6/site-packages/gym/core.py:26: UserWarning: \u001b[33mWARN: Gym minimally supports python 3.6 as the python foundation not longer supports the version, please update your version to 3.7+\u001b[0m\n",
      "  \"Gym minimally supports python 3.6 as the python foundation not longer supports the version, please update your version to 3.7+\"\n"
     ]
    }
   ],
   "source": [
    "import numpy as np\n",
    "import gym\n",
    "import random\n",
    "from tqdm import tqdm\n",
    "import matplotlib.pyplot as plt \n",
    "import random\n",
    "import math\n",
    "import time"
   ]
  },
  {
   "cell_type": "code",
   "execution_count": 3,
   "id": "06203942",
   "metadata": {},
   "outputs": [],
   "source": [
    "env_name = \"Acrobot-v1\"\n",
    "render_Mode = \"human\"\n",
    "# env = gym.make(env_name)"
   ]
  },
  {
   "cell_type": "code",
   "execution_count": 4,
   "id": "a628bcea",
   "metadata": {},
   "outputs": [],
   "source": [
    "def getAngle(cos_val, sin_val):   \n",
    "    a_acos = math.acos(cos_val)\n",
    "    angle = 0\n",
    "    if sin_val < 0:\n",
    "        angle = math.degrees(-a_acos) % 360\n",
    "    else: \n",
    "        angle = math.degrees(a_acos)\n",
    "    return angle"
   ]
  },
  {
   "cell_type": "code",
   "execution_count": 5,
   "id": "1ee12764",
   "metadata": {},
   "outputs": [],
   "source": [
    "def transformObs(obs):\n",
    "    ang1 = int(getAngle(obs[0], obs[1])/5)\n",
    "    ang2 = int(getAngle(obs[2], obs[3])/5)\n",
    "    new_obs = []\n",
    "    new_obs.append(ang1)\n",
    "    new_obs.append(ang2)\n",
    "    new_obs.append(int((obs[4] + 12.57)))\n",
    "    new_obs.append(int((obs[5] + 28.28)))\n",
    "    return new_obs"
   ]
  },
  {
   "cell_type": "code",
   "execution_count": 6,
   "id": "1f5ecba5",
   "metadata": {},
   "outputs": [],
   "source": [
    "# pi = [[[[0 for _ in range(57)] for _ in range(26)] for _ in range(72)] for _ in range(72)]"
   ]
  },
  {
   "cell_type": "code",
   "execution_count": 7,
   "id": "723138a8",
   "metadata": {},
   "outputs": [],
   "source": [
    "val_func = [[[[0 for _ in range(57)] for _ in range(26)] for _ in range(72)] for _ in range(72)]"
   ]
  },
  {
   "cell_type": "code",
   "execution_count": 8,
   "id": "e2e2735c",
   "metadata": {},
   "outputs": [],
   "source": [
    "next_state = [[[[[(-1, -1, -1, -1) for _ in range(3)] for _ in range(57)] for _ in range(26)] for _ in range(72)] for _ in range(72)]"
   ]
  },
  {
   "cell_type": "code",
   "execution_count": 9,
   "id": "fca20316",
   "metadata": {},
   "outputs": [],
   "source": [
    "occur_count = [[[[0 for _ in range(57)] for _ in range(26)] for _ in range(72)] for _ in range(72)]"
   ]
  },
  {
   "cell_type": "code",
   "execution_count": 10,
   "id": "9d560846",
   "metadata": {},
   "outputs": [],
   "source": [
    "tot = [[[[0 for _ in range(57)] for _ in range(26)] for _ in range(72)] for _ in range(72)]"
   ]
  },
  {
   "cell_type": "code",
   "execution_count": 11,
   "id": "3166e374",
   "metadata": {},
   "outputs": [],
   "source": [
    "# gamma = 0.8"
   ]
  },
  {
   "cell_type": "code",
   "execution_count": 12,
   "id": "e09ccdb6",
   "metadata": {},
   "outputs": [],
   "source": [
    "def performEpisode(gamma):\n",
    "    Acrobot = gym.make(env_name)\n",
    "    #Acrobot = gym.make(env_name, render_mode=render_Mode)\n",
    "    pre_obs = Acrobot.reset()\n",
    "    pre_obs = transformObs(pre_obs)\n",
    "    done = False\n",
    "    SR_list = []\n",
    "    while not done:\n",
    "        a, b, c, d = int(pre_obs[0]), int(pre_obs[1]), int(pre_obs[2]), int(pre_obs[3])\n",
    "        SR_list.append((a, b, c, d))\n",
    "        act = random.randint(0, 2) \n",
    "        pre_obs, reward, done, info = Acrobot.step(act)\n",
    "        SR_list.append(reward)\n",
    "        pre_obs = transformObs(pre_obs)\n",
    "        a_n, b_n, c_n, d_n = int(pre_obs[0]), int(pre_obs[1]), int(pre_obs[2]), int(pre_obs[3])\n",
    "        next_state[a][b][c][d][act] = (a_n, b_n, c_n, d_n)\n",
    "        \n",
    "    G = 0    \n",
    "    for i in range(len(SR_list)-1, 0, -2):\n",
    "        G = gamma*G + SR_list[i]\n",
    "        a, b, c, d = SR_list[i-1]\n",
    "        tot[a][b][c][d] += G\n",
    "        occur_count[a][b][c][d] += 1\n",
    "        val_func[a][b][c][d] = tot[a][b][c][d]/occur_count[a][b][c][d]\n",
    "    Acrobot.close()"
   ]
  },
  {
   "cell_type": "code",
   "execution_count": 13,
   "id": "87267eeb",
   "metadata": {},
   "outputs": [],
   "source": [
    "def getReward():\n",
    "    Acrobot = gym.make(env_name)\n",
    "    pre_obs = Acrobot.reset() \n",
    "    pre_obs = transformObs(pre_obs)\n",
    "    done = False\n",
    "    tot_reward = 0\n",
    "    while not done:\n",
    "        a, b, c, d = int(pre_obs[0]), int(pre_obs[1]), int(pre_obs[2]), int(pre_obs[3])\n",
    "        \n",
    "        req_act = random.randint(0, 2)   \n",
    "        max_val = -200000000000\n",
    "        for act in range(0, 3):\n",
    "            a_n, b_n, c_n, d_n = next_state[a][b][c][d][act]\n",
    "            if a_n!=-1 and b_n!=-1 and c_n!=-1 and d_n!=-1:\n",
    "                if val_func[a_n][b_n][c_n][d_n] >= max_val:\n",
    "                    max_val = val_func[a_n][b_n][c_n][d_n]\n",
    "                    req_act = act \n",
    " \n",
    "        pre_obs, reward, done, info = Acrobot.step(req_act)\n",
    "        tot_reward += reward\n",
    "        pre_obs = transformObs(pre_obs)   \n",
    "    Acrobot.close() \n",
    "    return tot_reward"
   ]
  },
  {
   "cell_type": "code",
   "execution_count": 14,
   "id": "71190e32",
   "metadata": {},
   "outputs": [],
   "source": [
    "def reset_vals():\n",
    "    val_func = [[[[0 for _ in range(57)] for _ in range(26)] for _ in range(72)] for _ in range(72)]\n",
    "    tot = [[[[0 for _ in range(57)] for _ in range(26)] for _ in range(72)] for _ in range(72)]\n",
    "    occur_count = [[[[0 for _ in range(57)] for _ in range(26)] for _ in range(72)] for _ in range(72)]\n",
    "    next_state = [[[[[(-1, -1, -1, -1) for _ in range(3)] for _ in range(57)] for _ in range(26)] for _ in range(72)] for _ in range(72)]"
   ]
  },
  {
   "cell_type": "code",
   "execution_count": 15,
   "id": "0fb18817",
   "metadata": {},
   "outputs": [
    {
     "name": "stderr",
     "output_type": "stream",
     "text": [
      "Loading…:   0%|                                                          | 0/150000 [00:00<?, ?it/s]/home/rahul/.local/lib/python3.6/site-packages/gym/core.py:318: DeprecationWarning: \u001b[33mWARN: Initializing wrapper in old step API which returns one bool instead of two. It is recommended to set `new_step_api=True` to use new step API. This will be the default behaviour in future.\u001b[0m\n",
      "  \"Initializing wrapper in old step API which returns one bool instead of two. It is recommended to set `new_step_api=True` to use new step API. This will be the default behaviour in future.\"\n",
      "/home/rahul/.local/lib/python3.6/site-packages/gym/wrappers/step_api_compatibility.py:40: DeprecationWarning: \u001b[33mWARN: Initializing environment in old step API which returns one bool instead of two. It is recommended to set `new_step_api=True` to use new step API. This will be the default behaviour in future.\u001b[0m\n",
      "  \"Initializing environment in old step API which returns one bool instead of two. It is recommended to set `new_step_api=True` to use new step API. This will be the default behaviour in future.\"\n",
      "Loading…: 100%|███████████████████████████████████████████| 150000/150000 [3:55:02<00:00, 10.64it/s]\n",
      "Loading…: 100%|███████████████████████████████████████████| 150000/150000 [3:37:59<00:00, 11.47it/s]\n",
      "Loading…: 100%|███████████████████████████████████████████| 150000/150000 [3:41:32<00:00, 11.28it/s]\n"
     ]
    }
   ],
   "source": [
    "x_rew = []\n",
    "avg_reww_0_6 = []\n",
    "avg_reww_0_7 = []\n",
    "# avg_reww_0_2 = []\n",
    "avg_reww_0_9 = []\n",
    "\n",
    "for cnt in tqdm (range (150000), desc=\"Loading…\", ascii=False, ncols=100):\n",
    "    performEpisode(0.6)\n",
    "    if cnt>0 and cnt%1500 == 0:\n",
    "        rew = 0\n",
    "        for _ in range(200):\n",
    "            rew += getReward()\n",
    "        avg_reww_0_6.append(rew/200)    \n",
    "        x_rew.append(cnt/1600)\n",
    "        \n",
    "reset_vals()        \n",
    "for cnt in tqdm (range (150000), desc=\"Loading…\", ascii=False, ncols=100):\n",
    "    performEpisode(0.7)\n",
    "    if cnt>0 and cnt%1500 == 0:\n",
    "        rew = 0\n",
    "        for _ in range(200):\n",
    "            rew += getReward()\n",
    "        avg_reww_0_7.append(rew/200)    \n",
    "\n",
    "# reset_vals()        \n",
    "# for cnt in tqdm (range (200000), desc=\"Loading…\", ascii=False, ncols=100):\n",
    "#     performEpisode(0.2)\n",
    "#     if cnt>0 and cnt%2000 == 0:\n",
    "#         rew = 0\n",
    "#         for _ in range(200):\n",
    "#             rew += getReward()\n",
    "#         avg_reww_0_2.append(rew/200)\n",
    "        \n",
    "reset_vals()        \n",
    "for cnt in tqdm (range (150000), desc=\"Loading…\", ascii=False, ncols=100):\n",
    "    performEpisode(0.9)\n",
    "    if cnt>0 and cnt%1500 == 0:\n",
    "        rew = 0\n",
    "        for _ in range(200):\n",
    "            rew += getReward()\n",
    "        avg_reww_0_9.append(rew/200)        "
   ]
  },
  {
   "cell_type": "code",
   "execution_count": 16,
   "id": "3dae1559",
   "metadata": {},
   "outputs": [
    {
     "data": {
      "image/png": "[encoded data removed]",
      "text/plain": [
       "<matplotlib.figure.Figure at 0x7fd79d2142b0>"
      ]
     },
     "metadata": {
      "needs_background": "light"
     },
     "output_type": "display_data"
    }
   ],
   "source": [
    "fig, ax = plt.subplots()\n",
    "\n",
    "ax.plot(avg_reww_0_6, color = 'green', label = '0.6')\n",
    "ax.plot(avg_reww_0_7, color = 'red', label = '0.7')\n",
    "# ax.plot(avg_reww_0_2, color = 'violet', label = '0.2')\n",
    "ax.plot(avg_reww_0_9, color = 'blue', label = '0.9')\n",
    "ax.legend(loc = 'upper left')\n",
    "plt.show()"
   ]
  }
 ],
 "metadata": {
  "kernelspec": {
   "display_name": "Python 3",
   "language": "python",
   "name": "python3"
  },
  "language_info": {
   "codemirror_mode": {
    "name": "ipython",
    "version": 3
   },
   "file_extension": ".py",
   "mimetype": "text/x-python",
   "name": "python",
   "nbconvert_exporter": "python",
   "pygments_lexer": "ipython3",
   "version": "3.6.9"
  }
 },
 "nbformat": 4,
 "nbformat_minor": 5
}
