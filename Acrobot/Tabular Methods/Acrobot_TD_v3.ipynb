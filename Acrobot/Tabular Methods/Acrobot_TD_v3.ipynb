{
 "cells": [
  {
   "cell_type": "code",
   "execution_count": 1,
   "id": "df9ffc08",
   "metadata": {},
   "outputs": [
    {
     "name": "stdout",
     "output_type": "stream",
     "text": [
      "Defaulting to user installation because normal site-packages is not writeable\n",
      "Requirement already satisfied: gym[classic_control] in /home/rahul/.local/lib/python3.6/site-packages (0.25.2)\n",
      "Requirement already satisfied: numpy>=1.18.0 in /home/rahul/.local/lib/python3.6/site-packages (from gym[classic_control]) (1.19.5)\n",
      "Requirement already satisfied: gym-notices>=0.0.4 in /home/rahul/.local/lib/python3.6/site-packages (from gym[classic_control]) (0.0.8)\n",
      "Requirement already satisfied: dataclasses==0.8 in /home/rahul/.local/lib/python3.6/site-packages (from gym[classic_control]) (0.8)\n",
      "Requirement already satisfied: importlib-metadata>=4.8.0 in /home/rahul/.local/lib/python3.6/site-packages (from gym[classic_control]) (4.8.3)\n",
      "Requirement already satisfied: cloudpickle>=1.2.0 in /home/rahul/.local/lib/python3.6/site-packages (from gym[classic_control]) (2.1.0)\n",
      "Requirement already satisfied: pygame==2.1.0 in /home/rahul/.local/lib/python3.6/site-packages (from gym[classic_control]) (2.1.0)\n",
      "Requirement already satisfied: typing-extensions>=3.6.4 in /home/rahul/.local/lib/python3.6/site-packages (from importlib-metadata>=4.8.0->gym[classic_control]) (4.1.1)\n",
      "Requirement already satisfied: zipp>=0.5 in /home/rahul/.local/lib/python3.6/site-packages (from importlib-metadata>=4.8.0->gym[classic_control]) (3.6.0)\n",
      "Defaulting to user installation because normal site-packages is not writeable\n",
      "Requirement already satisfied: tqdm in /home/rahul/.local/lib/python3.6/site-packages (4.60.0)\n",
      "Defaulting to user installation because normal site-packages is not writeable\n",
      "Requirement already satisfied: gym[box2d] in /home/rahul/.local/lib/python3.6/site-packages (0.25.2)\n",
      "Requirement already satisfied: numpy>=1.18.0 in /home/rahul/.local/lib/python3.6/site-packages (from gym[box2d]) (1.19.5)\n",
      "Requirement already satisfied: importlib-metadata>=4.8.0 in /home/rahul/.local/lib/python3.6/site-packages (from gym[box2d]) (4.8.3)\n",
      "Requirement already satisfied: dataclasses==0.8 in /home/rahul/.local/lib/python3.6/site-packages (from gym[box2d]) (0.8)\n",
      "Requirement already satisfied: cloudpickle>=1.2.0 in /home/rahul/.local/lib/python3.6/site-packages (from gym[box2d]) (2.1.0)\n",
      "Requirement already satisfied: gym-notices>=0.0.4 in /home/rahul/.local/lib/python3.6/site-packages (from gym[box2d]) (0.0.8)\n",
      "Requirement already satisfied: pygame==2.1.0 in /home/rahul/.local/lib/python3.6/site-packages (from gym[box2d]) (2.1.0)\n",
      "Requirement already satisfied: box2d-py==2.3.5 in /home/rahul/.local/lib/python3.6/site-packages (from gym[box2d]) (2.3.5)\n",
      "Requirement already satisfied: swig==4.* in /home/rahul/.local/lib/python3.6/site-packages (from gym[box2d]) (4.0.2)\n",
      "Requirement already satisfied: zipp>=0.5 in /home/rahul/.local/lib/python3.6/site-packages (from importlib-metadata>=4.8.0->gym[box2d]) (3.6.0)\n",
      "Requirement already satisfied: typing-extensions>=3.6.4 in /home/rahul/.local/lib/python3.6/site-packages (from importlib-metadata>=4.8.0->gym[box2d]) (4.1.1)\n"
     ]
    }
   ],
   "source": [
    "!pip install gym[classic_control]\n",
    "!pip install tqdm\n",
    "!pip install gym[box2d]"
   ]
  },
  {
   "cell_type": "code",
   "execution_count": 2,
   "id": "87151ac6",
   "metadata": {},
   "outputs": [
    {
     "name": "stderr",
     "output_type": "stream",
     "text": [
      "/home/rahul/.local/lib/python3.6/site-packages/gym/core.py:26: UserWarning: \u001b[33mWARN: Gym minimally supports python 3.6 as the python foundation not longer supports the version, please update your version to 3.7+\u001b[0m\n",
      "  \"Gym minimally supports python 3.6 as the python foundation not longer supports the version, please update your version to 3.7+\"\n"
     ]
    }
   ],
   "source": [
    "import numpy as np\n",
    "import gym\n",
    "import random\n",
    "from tqdm import tqdm\n",
    "import matplotlib.pyplot as plt \n",
    "import random\n",
    "import math\n",
    "# import progressbar\n",
    "import time"
   ]
  },
  {
   "cell_type": "code",
   "execution_count": 3,
   "id": "b050f650",
   "metadata": {},
   "outputs": [],
   "source": [
    "env_name = \"Acrobot-v1\"\n",
    "render_Mode = \"human\"\n",
    "# env = gym.make(env_name)"
   ]
  },
  {
   "cell_type": "code",
   "execution_count": 4,
   "id": "151d7e86",
   "metadata": {},
   "outputs": [],
   "source": [
    "def getAngle(cos_val, sin_val):   \n",
    "    a_acos = math.acos(cos_val)\n",
    "    angle = 0\n",
    "    if sin_val < 0:\n",
    "        angle = math.degrees(-a_acos) % 360\n",
    "    else: \n",
    "        angle = math.degrees(a_acos)\n",
    "    return angle"
   ]
  },
  {
   "cell_type": "code",
   "execution_count": 5,
   "id": "b7293587",
   "metadata": {},
   "outputs": [],
   "source": [
    "def transformObs(obs):\n",
    "    ang1 = int(getAngle(obs[0], obs[1])/5)\n",
    "    ang2 = int(getAngle(obs[2], obs[3])/5)\n",
    "    new_obs = []\n",
    "    new_obs.append(ang1)\n",
    "    new_obs.append(ang2)\n",
    "    new_obs.append(int((obs[4] + 12.57)))\n",
    "    new_obs.append(int((obs[5] + 28.28)))\n",
    "    return new_obs"
   ]
  },
  {
   "cell_type": "code",
   "execution_count": 6,
   "id": "cd4e0d82",
   "metadata": {},
   "outputs": [],
   "source": [
    "val_func = [[[[0 for _ in range(57)] for _ in range(26)] for _ in range(72)] for _ in range(72)]"
   ]
  },
  {
   "cell_type": "code",
   "execution_count": 7,
   "id": "34874d98",
   "metadata": {},
   "outputs": [],
   "source": [
    "next_state = [[[[[(-1, -1, -1, -1) for _ in range(3)] for _ in range(57)] for _ in range(26)] for _ in range(72)] for _ in range(72)]"
   ]
  },
  {
   "cell_type": "code",
   "execution_count": 8,
   "id": "939632b3",
   "metadata": {},
   "outputs": [],
   "source": [
    "gamma = 0.8"
   ]
  },
  {
   "cell_type": "code",
   "execution_count": 9,
   "id": "79ea4de4",
   "metadata": {},
   "outputs": [],
   "source": [
    "def performEpisode(alpha):\n",
    "    Acrobot = gym.make(env_name)\n",
    "#     Acrobot = gym.make(env_name, render_mode=render_Mode)\n",
    "    pre_obs = Acrobot.reset()\n",
    "    \n",
    "    pre_obs = transformObs(pre_obs)\n",
    "    done = False\n",
    "    tot_reward = 0\n",
    "    while not done:\n",
    "        a, b, c, d = int(pre_obs[0]), int(pre_obs[1]), int(pre_obs[2]), int(pre_obs[3])\n",
    "        act = random.randint(0, 2) \n",
    "        pre_obs, reward, done, info = Acrobot.step(act)\n",
    "        tot_reward += reward\n",
    "        pre_obs = transformObs(pre_obs)\n",
    "        a_n, b_n, c_n, d_n = int(pre_obs[0]), int(pre_obs[1]), int(pre_obs[2]), int(pre_obs[3])\n",
    "        next_state[a][b][c][d][act] = (a_n, b_n, c_n, d_n)\n",
    "        val_func[a][b][c][d] = val_func[a][b][c][d] + alpha*(reward + gamma*val_func[a_n][b_n][c_n][d_n] - val_func[a][b][c][d])\n",
    "    Acrobot.close() "
   ]
  },
  {
   "cell_type": "code",
   "execution_count": 10,
   "id": "9c22b08d",
   "metadata": {},
   "outputs": [],
   "source": [
    "def getReward():\n",
    "    Acrobot = gym.make(env_name)\n",
    "    pre_obs = Acrobot.reset() \n",
    "    pre_obs = transformObs(pre_obs)\n",
    "    done = False\n",
    "    tot_reward = 0\n",
    "    while not done:\n",
    "        a, b, c, d = int(pre_obs[0]), int(pre_obs[1]), int(pre_obs[2]), int(pre_obs[3])\n",
    "        \n",
    "        req_act = random.randint(0, 2)   \n",
    "        max_val = -200000000000\n",
    "        for act in range(0, 3):\n",
    "            a_n, b_n, c_n, d_n = next_state[a][b][c][d][act]\n",
    "            if a_n!=-1 and b_n!=-1 and c_n!=-1 and d_n!=-1:\n",
    "                if val_func[a_n][b_n][c_n][d_n] >= max_val:\n",
    "                    max_val = val_func[a_n][b_n][c_n][d_n]\n",
    "                    req_act = act \n",
    " \n",
    "        pre_obs, reward, done, info = Acrobot.step(req_act)\n",
    "        tot_reward += reward\n",
    "        pre_obs = transformObs(pre_obs)   \n",
    "    Acrobot.close() \n",
    "    return tot_reward"
   ]
  },
  {
   "cell_type": "code",
   "execution_count": 11,
   "id": "5731b4a8",
   "metadata": {},
   "outputs": [],
   "source": [
    "def reset_vals():\n",
    "    val_func = [[[[0 for _ in range(57)] for _ in range(26)] for _ in range(72)] for _ in range(72)]\n",
    "    next_state = [[[[[(-1, -1, -1, -1) for _ in range(3)] for _ in range(57)] for _ in range(26)] for _ in range(72)] for _ in range(72)]"
   ]
  },
  {
   "cell_type": "code",
   "execution_count": 12,
   "id": "617475e0",
   "metadata": {},
   "outputs": [
    {
     "name": "stderr",
     "output_type": "stream",
     "text": [
      "Loading…:   0%|                                                          | 0/160000 [00:00<?, ?it/s]/home/rahul/.local/lib/python3.6/site-packages/gym/core.py:318: DeprecationWarning: \u001b[33mWARN: Initializing wrapper in old step API which returns one bool instead of two. It is recommended to set `new_step_api=True` to use new step API. This will be the default behaviour in future.\u001b[0m\n",
      "  \"Initializing wrapper in old step API which returns one bool instead of two. It is recommended to set `new_step_api=True` to use new step API. This will be the default behaviour in future.\"\n",
      "/home/rahul/.local/lib/python3.6/site-packages/gym/wrappers/step_api_compatibility.py:40: DeprecationWarning: \u001b[33mWARN: Initializing environment in old step API which returns one bool instead of two. It is recommended to set `new_step_api=True` to use new step API. This will be the default behaviour in future.\u001b[0m\n",
      "  \"Initializing environment in old step API which returns one bool instead of two. It is recommended to set `new_step_api=True` to use new step API. This will be the default behaviour in future.\"\n",
      "Loading…: 100%|███████████████████████████████████████████| 160000/160000 [4:11:56<00:00, 10.58it/s]\n",
      "Loading…: 100%|███████████████████████████████████████████| 160000/160000 [4:04:47<00:00, 10.89it/s]\n",
      "Loading…: 100%|███████████████████████████████████████████| 160000/160000 [3:46:41<00:00, 11.76it/s]\n"
     ]
    }
   ],
   "source": [
    "x_rew = []\n",
    "avg_reww_0_6 = []\n",
    "avg_reww_0_7 = []\n",
    "# avg_reww_0_2 = []\n",
    "avg_reww_0_9 = []\n",
    "\n",
    "for cnt in tqdm (range (160000), desc=\"Loading…\", ascii=False, ncols=100):\n",
    "    performEpisode(0.6)\n",
    "    if cnt>0 and cnt%1600 == 0:\n",
    "        rew = 0\n",
    "        for _ in range(200):\n",
    "            rew += getReward()\n",
    "        avg_reww_0_6.append(rew/200)    \n",
    "        x_rew.append(cnt/1600)\n",
    "        \n",
    "reset_vals()        \n",
    "for cnt in tqdm (range (160000), desc=\"Loading…\", ascii=False, ncols=100):\n",
    "    performEpisode(0.7)\n",
    "    if cnt>0 and cnt%1600 == 0:\n",
    "        rew = 0\n",
    "        for _ in range(200):\n",
    "            rew += getReward()\n",
    "        avg_reww_0_7.append(rew/200)    \n",
    "\n",
    "# reset_vals()        \n",
    "# for cnt in tqdm (range (200000), desc=\"Loading…\", ascii=False, ncols=100):\n",
    "#     performEpisode(0.2)\n",
    "#     if cnt>0 and cnt%2000 == 0:\n",
    "#         rew = 0\n",
    "#         for _ in range(200):\n",
    "#             rew += getReward()\n",
    "#         avg_reww_0_2.append(rew/200)\n",
    "        \n",
    "reset_vals()        \n",
    "for cnt in tqdm (range (160000), desc=\"Loading…\", ascii=False, ncols=100):\n",
    "    performEpisode(0.9)\n",
    "    if cnt>0 and cnt%1600 == 0:\n",
    "        rew = 0\n",
    "        for _ in range(200):\n",
    "            rew += getReward()\n",
    "        avg_reww_0_9.append(rew/200)        "
   ]
  },
  {
   "cell_type": "code",
   "execution_count": 14,
   "id": "70fdabd2",
   "metadata": {},
   "outputs": [
    {
     "data": {
      "image/png": "[encoded data removed]",
      "text/plain": [
       "<matplotlib.figure.Figure at 0x7f2514a252b0>"
      ]
     },
     "metadata": {
      "needs_background": "light"
     },
     "output_type": "display_data"
    }
   ],
   "source": [
    "# plt.plot(x_rew, avg_reww)\n",
    "# plt.xlabel(\"Episodes\")\n",
    "# plt.ylabel(\"Average Reward\")\n",
    "# plt.show()\n",
    "fig, ax = plt.subplots()\n",
    "\n",
    "ax.plot(avg_reww_0_6, color = 'green', label = '0.6')\n",
    "ax.plot(avg_reww_0_7, color = 'red', label = '0.7')\n",
    "# ax.plot(avg_reww_0_2, color = 'violet', label = '0.2')\n",
    "ax.plot(avg_reww_0_9, color = 'blue', label = '0.9')\n",
    "ax.legend(loc = 'upper left')\n",
    "plt.show()"
   ]
  },
  {
   "cell_type": "code",
   "execution_count": null,
   "id": "7fa3a93f",
   "metadata": {},
   "outputs": [],
   "source": []
  }
 ],
 "metadata": {
  "kernelspec": {
   "display_name": "Python 3",
   "language": "python",
   "name": "python3"
  },
  "language_info": {
   "codemirror_mode": {
    "name": "ipython",
    "version": 3
   },
   "file_extension": ".py",
   "mimetype": "text/x-python",
   "name": "python",
   "nbconvert_exporter": "python",
   "pygments_lexer": "ipython3",
   "version": "3.6.9"
  }
 },
 "nbformat": 4,
 "nbformat_minor": 5
}
