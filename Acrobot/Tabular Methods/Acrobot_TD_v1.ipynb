{
 "cells": [
  {
   "cell_type": "code",
   "execution_count": 1,
   "metadata": {
    "execution": {
     "iopub.execute_input": "2022-09-04T18:24:12.650840Z",
     "iopub.status.busy": "2022-09-04T18:24:12.650132Z",
     "iopub.status.idle": "2022-09-04T18:24:29.794223Z",
     "shell.execute_reply": "2022-09-04T18:24:29.793010Z",
     "shell.execute_reply.started": "2022-09-04T18:24:12.650749Z"
    },
    "id": "B6mbJTQq2DIL",
    "outputId": "7f03e827-61d9-430a-b636-5cdf9fa40c72"
   },
   "outputs": [
    {
     "name": "stdout",
     "output_type": "stream",
     "text": [
      "Defaulting to user installation because normal site-packages is not writeable\n",
      "Requirement already satisfied: gym[classic_control] in /home/rahul/.local/lib/python3.6/site-packages (0.25.2)\n",
      "Requirement already satisfied: importlib-metadata>=4.8.0 in /home/rahul/.local/lib/python3.6/site-packages (from gym[classic_control]) (4.8.3)\n",
      "Requirement already satisfied: numpy>=1.18.0 in /home/rahul/.local/lib/python3.6/site-packages (from gym[classic_control]) (1.19.5)\n",
      "Requirement already satisfied: gym-notices>=0.0.4 in /home/rahul/.local/lib/python3.6/site-packages (from gym[classic_control]) (0.0.8)\n",
      "Requirement already satisfied: dataclasses==0.8 in /home/rahul/.local/lib/python3.6/site-packages (from gym[classic_control]) (0.8)\n",
      "Requirement already satisfied: cloudpickle>=1.2.0 in /home/rahul/.local/lib/python3.6/site-packages (from gym[classic_control]) (2.1.0)\n",
      "Requirement already satisfied: pygame==2.1.0 in /home/rahul/.local/lib/python3.6/site-packages (from gym[classic_control]) (2.1.0)\n",
      "Requirement already satisfied: typing-extensions>=3.6.4 in /home/rahul/.local/lib/python3.6/site-packages (from importlib-metadata>=4.8.0->gym[classic_control]) (4.1.1)\n",
      "Requirement already satisfied: zipp>=0.5 in /home/rahul/.local/lib/python3.6/site-packages (from importlib-metadata>=4.8.0->gym[classic_control]) (3.6.0)\n",
      "Defaulting to user installation because normal site-packages is not writeable\n",
      "Requirement already satisfied: tqdm in /home/rahul/.local/lib/python3.6/site-packages (4.60.0)\n",
      "Defaulting to user installation because normal site-packages is not writeable\n",
      "Requirement already satisfied: gym[box2d] in /home/rahul/.local/lib/python3.6/site-packages (0.25.2)\n",
      "Requirement already satisfied: dataclasses==0.8 in /home/rahul/.local/lib/python3.6/site-packages (from gym[box2d]) (0.8)\n",
      "Requirement already satisfied: gym-notices>=0.0.4 in /home/rahul/.local/lib/python3.6/site-packages (from gym[box2d]) (0.0.8)\n",
      "Requirement already satisfied: numpy>=1.18.0 in /home/rahul/.local/lib/python3.6/site-packages (from gym[box2d]) (1.19.5)\n",
      "Requirement already satisfied: importlib-metadata>=4.8.0 in /home/rahul/.local/lib/python3.6/site-packages (from gym[box2d]) (4.8.3)\n",
      "Requirement already satisfied: cloudpickle>=1.2.0 in /home/rahul/.local/lib/python3.6/site-packages (from gym[box2d]) (2.1.0)\n",
      "Requirement already satisfied: box2d-py==2.3.5 in /home/rahul/.local/lib/python3.6/site-packages (from gym[box2d]) (2.3.5)\n",
      "Requirement already satisfied: pygame==2.1.0 in /home/rahul/.local/lib/python3.6/site-packages (from gym[box2d]) (2.1.0)\n",
      "Requirement already satisfied: swig==4.* in /home/rahul/.local/lib/python3.6/site-packages (from gym[box2d]) (4.0.2)\n",
      "Requirement already satisfied: zipp>=0.5 in /home/rahul/.local/lib/python3.6/site-packages (from importlib-metadata>=4.8.0->gym[box2d]) (3.6.0)\n",
      "Requirement already satisfied: typing-extensions>=3.6.4 in /home/rahul/.local/lib/python3.6/site-packages (from importlib-metadata>=4.8.0->gym[box2d]) (4.1.1)\n"
     ]
    }
   ],
   "source": [
    "!pip install gym[classic_control]\n",
    "!pip install tqdm\n",
    "!pip install gym[box2d]"
   ]
  },
  {
   "cell_type": "code",
   "execution_count": 2,
   "metadata": {
    "execution": {
     "iopub.execute_input": "2022-09-04T18:24:29.796998Z",
     "iopub.status.busy": "2022-09-04T18:24:29.796608Z",
     "iopub.status.idle": "2022-09-04T18:24:29.903758Z",
     "shell.execute_reply": "2022-09-04T18:24:29.902714Z",
     "shell.execute_reply.started": "2022-09-04T18:24:29.796962Z"
    },
    "id": "dQ8AdrLV40UL"
   },
   "outputs": [
    {
     "name": "stderr",
     "output_type": "stream",
     "text": [
      "/home/rahul/.local/lib/python3.6/site-packages/gym/core.py:26: UserWarning: \u001b[33mWARN: Gym minimally supports python 3.6 as the python foundation not longer supports the version, please update your version to 3.7+\u001b[0m\n",
      "  \"Gym minimally supports python 3.6 as the python foundation not longer supports the version, please update your version to 3.7+\"\n"
     ]
    }
   ],
   "source": [
    "import numpy as np\n",
    "import gym\n",
    "import random\n",
    "from tqdm import tqdm\n",
    "import matplotlib.pyplot as plt \n",
    "import random\n",
    "import math\n",
    "# import progressbar\n",
    "import time"
   ]
  },
  {
   "cell_type": "code",
   "execution_count": 3,
   "metadata": {
    "execution": {
     "iopub.execute_input": "2022-09-04T18:24:29.905305Z",
     "iopub.status.busy": "2022-09-04T18:24:29.904987Z",
     "iopub.status.idle": "2022-09-04T18:24:29.910604Z",
     "shell.execute_reply": "2022-09-04T18:24:29.909342Z",
     "shell.execute_reply.started": "2022-09-04T18:24:29.905278Z"
    },
    "id": "OcVceFqY2fng",
    "outputId": "c512088c-4a43-4e2c-afb5-0a0f538c7014"
   },
   "outputs": [],
   "source": [
    "env_name = \"Acrobot-v1\"\n",
    "render_Mode = \"human\"\n",
    "# env = gym.make(env_name)"
   ]
  },
  {
   "cell_type": "code",
   "execution_count": 4,
   "metadata": {
    "execution": {
     "iopub.execute_input": "2022-09-04T18:24:29.976051Z",
     "iopub.status.busy": "2022-09-04T18:24:29.975719Z",
     "iopub.status.idle": "2022-09-04T18:24:29.985176Z",
     "shell.execute_reply": "2022-09-04T18:24:29.984440Z",
     "shell.execute_reply.started": "2022-09-04T18:24:29.976025Z"
    }
   },
   "outputs": [],
   "source": [
    "def getAngle(cos_val, sin_val):   \n",
    "    a_acos = math.acos(cos_val)\n",
    "    angle = 0\n",
    "    if sin_val < 0:\n",
    "        angle = math.degrees(-a_acos) % 360\n",
    "    else: \n",
    "        angle = math.degrees(a_acos)\n",
    "    return angle"
   ]
  },
  {
   "cell_type": "code",
   "execution_count": 5,
   "metadata": {
    "execution": {
     "iopub.execute_input": "2022-09-04T18:24:29.986208Z",
     "iopub.status.busy": "2022-09-04T18:24:29.985969Z",
     "iopub.status.idle": "2022-09-04T18:24:30.000013Z",
     "shell.execute_reply": "2022-09-04T18:24:29.999106Z",
     "shell.execute_reply.started": "2022-09-04T18:24:29.986185Z"
    }
   },
   "outputs": [],
   "source": [
    "def transformObs(obs):\n",
    "    ang1 = int(getAngle(obs[0], obs[1])/10)\n",
    "    ang2 = int(getAngle(obs[2], obs[3])/10)\n",
    "    new_obs = []\n",
    "    new_obs.append(ang1)\n",
    "    new_obs.append(ang2)\n",
    "    new_obs.append(int((obs[4] + 12.57)/2))\n",
    "    new_obs.append(int((obs[5] + 28.28)/2))\n",
    "    return new_obs"
   ]
  },
  {
   "cell_type": "code",
   "execution_count": 6,
   "metadata": {
    "execution": {
     "iopub.execute_input": "2022-09-04T18:24:30.004566Z",
     "iopub.status.busy": "2022-09-04T18:24:30.003984Z",
     "iopub.status.idle": "2022-09-04T18:24:30.022437Z",
     "shell.execute_reply": "2022-09-04T18:24:30.021196Z",
     "shell.execute_reply.started": "2022-09-04T18:24:30.004533Z"
    },
    "id": "gpDP0Kq42Brm"
   },
   "outputs": [],
   "source": [
    "pi = [[[[0 for _ in range(29)] for _ in range(13)] for _ in range(36)] for _ in range(36)]"
   ]
  },
  {
   "cell_type": "code",
   "execution_count": 7,
   "metadata": {
    "execution": {
     "iopub.execute_input": "2022-09-04T18:24:30.024284Z",
     "iopub.status.busy": "2022-09-04T18:24:30.023913Z",
     "iopub.status.idle": "2022-09-04T18:24:30.041035Z",
     "shell.execute_reply": "2022-09-04T18:24:30.039478Z",
     "shell.execute_reply.started": "2022-09-04T18:24:30.024252Z"
    },
    "id": "A7D-qBbj-QIZ"
   },
   "outputs": [],
   "source": [
    "val_func = [[[[0 for _ in range(29)] for _ in range(13)] for _ in range(36)] for _ in range(36)]"
   ]
  },
  {
   "cell_type": "code",
   "execution_count": 8,
   "metadata": {
    "execution": {
     "iopub.execute_input": "2022-09-04T18:24:30.043112Z",
     "iopub.status.busy": "2022-09-04T18:24:30.042700Z",
     "iopub.status.idle": "2022-09-04T18:24:30.058001Z",
     "shell.execute_reply": "2022-09-04T18:24:30.055921Z",
     "shell.execute_reply.started": "2022-09-04T18:24:30.043076Z"
    },
    "id": "Hy9eQgRZNOE9"
   },
   "outputs": [],
   "source": [
    "# q = [[[[[0 for _ in range(3)] for _ in range(7)] for _ in range(6)] for _ in range(6)] for _ in range(6)]"
   ]
  },
  {
   "cell_type": "code",
   "execution_count": 9,
   "metadata": {},
   "outputs": [],
   "source": [
    "# vis = [[[[0 for _ in range(7)] for _ in range(6)] for _ in range(6)] for _ in range(6)]"
   ]
  },
  {
   "cell_type": "code",
   "execution_count": 10,
   "metadata": {
    "execution": {
     "iopub.execute_input": "2022-09-04T18:24:30.060068Z",
     "iopub.status.busy": "2022-09-04T18:24:30.059740Z",
     "iopub.status.idle": "2022-09-04T18:24:30.076657Z",
     "shell.execute_reply": "2022-09-04T18:24:30.074839Z",
     "shell.execute_reply.started": "2022-09-04T18:24:30.060044Z"
    }
   },
   "outputs": [],
   "source": [
    "next_state = [[[[[(-1, -1, -1, -1) for _ in range(3)] for _ in range(29)] for _ in range(13)] for _ in range(36)] for _ in range(36)]"
   ]
  },
  {
   "cell_type": "code",
   "execution_count": 11,
   "metadata": {},
   "outputs": [],
   "source": [
    "gamma = 0.9\n",
    "alpha = 0.8"
   ]
  },
  {
   "cell_type": "code",
   "execution_count": 12,
   "metadata": {
    "id": "s-zCzTdqUPgF"
   },
   "outputs": [],
   "source": [
    "def performEpisode():\n",
    "    Acrobot = gym.make(env_name)\n",
    "#     Acrobot = gym.make(env_name, render_mode=render_Mode)\n",
    "    pre_obs = Acrobot.reset()\n",
    "    \n",
    "    pre_obs = transformObs(pre_obs)\n",
    "    done = False\n",
    "    tot_reward = 0\n",
    "    while not done:\n",
    "        a, b, c, d = int(pre_obs[0]), int(pre_obs[1]), int(pre_obs[2]), int(pre_obs[3])\n",
    "        act = random.randint(0, 2) \n",
    "        pre_obs, reward, done, info = Acrobot.step(act)\n",
    "        tot_reward += reward\n",
    "        pre_obs = transformObs(pre_obs)\n",
    "        a_n, b_n, c_n, d_n = int(pre_obs[0]), int(pre_obs[1]), int(pre_obs[2]), int(pre_obs[3])\n",
    "        next_state[a][b][c][d][act] = (a_n, b_n, c_n, d_n)\n",
    "        val_func[a][b][c][d] = val_func[a][b][c][d] + alpha*(reward + gamma*val_func[a_n][b_n][c_n][d_n] - val_func[a][b][c][d])\n",
    "    Acrobot.close() "
   ]
  },
  {
   "cell_type": "code",
   "execution_count": 13,
   "metadata": {
    "id": "ia6zm4HI-fuj"
   },
   "outputs": [],
   "source": [
    "def getReward():\n",
    "    Acrobot = gym.make(env_name)\n",
    "    pre_obs = Acrobot.reset() \n",
    "    pre_obs = transformObs(pre_obs)\n",
    "    done = False\n",
    "    tot_reward = 0\n",
    "    while not done:\n",
    "        a, b, c, d = int(pre_obs[0]), int(pre_obs[1]), int(pre_obs[2]), int(pre_obs[3])\n",
    "        \n",
    "        req_act = random.randint(0, 2)   \n",
    "        max_val = -200000000000\n",
    "        for act in range(0, 3):\n",
    "            a_n, b_n, c_n, d_n = next_state[a][b][c][d][act]\n",
    "            if a_n!=-1 and b_n!=-1 and c_n!=-1 and d_n!=-1:\n",
    "                if val_func[a_n][b_n][c_n][d_n] >= max_val:\n",
    "                    max_val = val_func[a_n][b_n][c_n][d_n]\n",
    "                    req_act = act \n",
    " \n",
    "        pre_obs, reward, done, info = Acrobot.step(req_act)\n",
    "        tot_reward += reward\n",
    "        pre_obs = transformObs(pre_obs)   \n",
    "    Acrobot.close() \n",
    "    return tot_reward"
   ]
  },
  {
   "cell_type": "code",
   "execution_count": 14,
   "metadata": {
    "id": "kV9I6PtGHQ2u"
   },
   "outputs": [],
   "source": [
    "def get_policy():\n",
    "    for i in range(36):\n",
    "        for j in range(36):\n",
    "            for v1 in range(13):\n",
    "                for v2 in range(29):\n",
    "                    max_val = -200000000000\n",
    "                    req_act = -1\n",
    "                    for act in range(0, 3):\n",
    "                        a, b, c, d = next_state[i][j][v1][v2][act]\n",
    "                        if a!=-1 and b!=-1 and c!=-1 and d!=-1:\n",
    "                            if val_func[a][b][c][d] >= max_val:\n",
    "                                max_val = val_func[a][b][c][d]\n",
    "                                req_act = act\n",
    "                    if req_act != -1:\n",
    "                        pi[i][j][v1][v2] = req_act        "
   ]
  },
  {
   "cell_type": "code",
   "execution_count": 15,
   "metadata": {
    "id": "5WT1FQwNLDhb"
   },
   "outputs": [
    {
     "name": "stderr",
     "output_type": "stream",
     "text": [
      "Loading…:   0%|                                                          | 0/200000 [00:00<?, ?it/s]/home/rahul/.local/lib/python3.6/site-packages/gym/core.py:318: DeprecationWarning: \u001b[33mWARN: Initializing wrapper in old step API which returns one bool instead of two. It is recommended to set `new_step_api=True` to use new step API. This will be the default behaviour in future.\u001b[0m\n",
      "  \"Initializing wrapper in old step API which returns one bool instead of two. It is recommended to set `new_step_api=True` to use new step API. This will be the default behaviour in future.\"\n",
      "/home/rahul/.local/lib/python3.6/site-packages/gym/wrappers/step_api_compatibility.py:40: DeprecationWarning: \u001b[33mWARN: Initializing environment in old step API which returns one bool instead of two. It is recommended to set `new_step_api=True` to use new step API. This will be the default behaviour in future.\u001b[0m\n",
      "  \"Initializing environment in old step API which returns one bool instead of two. It is recommended to set `new_step_api=True` to use new step API. This will be the default behaviour in future.\"\n",
      "Loading…: 100%|███████████████████████████████████████████| 200000/200000 [4:54:09<00:00, 11.33it/s]\n"
     ]
    }
   ],
   "source": [
    "x_rew = []\n",
    "avg_reww = []\n",
    "orig_reww = []\n",
    "for cnt in tqdm (range (200000), desc=\"Loading…\", ascii=False, ncols=100):\n",
    "    performEpisode()\n",
    "    if cnt>0 and cnt%2000 == 0:\n",
    "        rew = 0\n",
    "        orig_reww.append(getReward())\n",
    "        for _ in range(200):\n",
    "            rew += getReward()\n",
    "        avg_reww.append(rew/200)    \n",
    "        x_rew.append(cnt/2000)"
   ]
  },
  {
   "cell_type": "code",
   "execution_count": 16,
   "metadata": {},
   "outputs": [
    {
     "data": {
      "image/png": "[encoded data removed]",
      "text/plain": [
       "<matplotlib.figure.Figure at 0x7f3fc6fca898>"
      ]
     },
     "metadata": {
      "needs_background": "light"
     },
     "output_type": "display_data"
    }
   ],
   "source": [
    "plt.plot(x_rew, avg_reww)\n",
    "plt.xlabel(\"Episodes\")\n",
    "plt.ylabel(\"Average Reward\")\n",
    "plt.show()"
   ]
  },
  {
   "cell_type": "code",
   "execution_count": 17,
   "metadata": {},
   "outputs": [
    {
     "data": {
      "image/png": "[encoded data removed]",
      "text/plain": [
       "<matplotlib.figure.Figure at 0x7f4030480358>"
      ]
     },
     "metadata": {
      "needs_background": "light"
     },
     "output_type": "display_data"
    }
   ],
   "source": [
    "plt.plot(x_rew, orig_reww)\n",
    "plt.xlabel(\"Episodes\")\n",
    "plt.ylabel(\"Single Reward\")\n",
    "plt.show()"
   ]
  },
  {
   "cell_type": "code",
   "execution_count": 18,
   "metadata": {},
   "outputs": [],
   "source": [
    "get_policy()"
   ]
  },
  {
   "cell_type": "code",
   "execution_count": 19,
   "metadata": {
    "id": "gTjeIZeANthv"
   },
   "outputs": [
    {
     "name": "stdout",
     "output_type": "stream",
     "text": [
      "-500.0\n"
     ]
    }
   ],
   "source": [
    "Acrobot = gym.make(env_name)\n",
    "# Acrobot = gym.make(env_name, render_mode=render_Mode)\n",
    "pre_obs = Acrobot.reset() \n",
    "pre_obs = transformObs(pre_obs)\n",
    "done = False\n",
    "reward = 0\n",
    "while not done:\n",
    "    a, b, c, d = int(pre_obs[0]), int(pre_obs[1]), int(pre_obs[2]), int(pre_obs[3])\n",
    "    act = pi[a][b][c][d]\n",
    "    pre_obs, rew, done, info = Acrobot.step(act)\n",
    "    pre_obs = transformObs(pre_obs)\n",
    "    reward += rew\n",
    "Acrobot.close()    \n",
    "print(reward)    "
   ]
  },
  {
   "cell_type": "code",
   "execution_count": 20,
   "metadata": {},
   "outputs": [
    {
     "name": "stderr",
     "output_type": "stream",
     "text": [
      "Loading…: 100%|█████████████████████████████████████████████████| 1000/1000 [01:26<00:00, 11.61it/s]"
     ]
    },
    {
     "name": "stdout",
     "output_type": "stream",
     "text": [
      "Average reward: -464.211\n",
      "Highest Reward: -202.0\n",
      "Success Rate: 0.366\n",
      "[-202.0, -210.0, -217.0, -227.0, -242.0, -245.0, -246.0, -250.0, -257.0, -259.0, -260.0, -263.0, -269.0, -271.0, -272.0, -275.0, -276.0, -277.0, -282.0, -285.0, -287.0, -287.0, -287.0, -288.0, -289.0, -291.0, -292.0, -293.0, -296.0, -298.0, -299.0, -299.0, -300.0, -301.0, -302.0, -302.0, -302.0, -303.0, -305.0, -308.0, -309.0, -310.0, -311.0, -312.0, -312.0, -313.0, -313.0, -314.0, -314.0, -315.0]\n"
     ]
    },
    {
     "name": "stderr",
     "output_type": "stream",
     "text": [
      "\n"
     ]
    }
   ],
   "source": [
    "reward = 0\n",
    "min_iter = 500\n",
    "rew_list = []\n",
    "success = 0\n",
    "for _ in tqdm (range (1000), desc=\"Loading…\", ascii=False, ncols=100):\n",
    "    Acrobot = gym.make(env_name)\n",
    "    #Acrobot = gym.make(env_name, render_mode=render_Mode)\n",
    "    pre_obs = Acrobot.reset() \n",
    "    pre_obs = transformObs(pre_obs)\n",
    "    done = False\n",
    "    cur = 0\n",
    "    while not done:\n",
    "        a, b, c, d = int(pre_obs[0]), int(pre_obs[1]), int(pre_obs[2]), int(pre_obs[3])\n",
    "        act = pi[a][b][c][d]\n",
    "        pre_obs, rew, done, info = Acrobot.step(act)\n",
    "        pre_obs = transformObs(pre_obs)\n",
    "        cur += rew\n",
    "    reward += cur  \n",
    "    if cur > -500:\n",
    "        success += 1\n",
    "    min_iter = min(min_iter, -cur)\n",
    "    rew_list.append(cur)\n",
    "    Acrobot.close()\n",
    "rew_list.sort(reverse=True)   \n",
    "print(\"Average reward:\", reward/1000) \n",
    "print(\"Highest Reward:\", -min_iter)\n",
    "print(\"Success Rate:\", success/1000)\n",
    "print(rew_list[:50])"
   ]
  },
  {
   "cell_type": "code",
   "execution_count": null,
   "metadata": {},
   "outputs": [],
   "source": []
  }
 ],
 "metadata": {
  "kernelspec": {
   "display_name": "Python 3",
   "language": "python",
   "name": "python3"
  },
  "language_info": {
   "codemirror_mode": {
    "name": "ipython",
    "version": 3
   },
   "file_extension": ".py",
   "mimetype": "text/x-python",
   "name": "python",
   "nbconvert_exporter": "python",
   "pygments_lexer": "ipython3",
   "version": "3.6.9"
  }
 },
 "nbformat": 4,
 "nbformat_minor": 4
}
