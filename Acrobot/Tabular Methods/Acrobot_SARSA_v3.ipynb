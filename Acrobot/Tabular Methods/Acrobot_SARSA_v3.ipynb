{
 "cells": [
  {
   "cell_type": "code",
   "execution_count": 1,
   "id": "dd2ee150",
   "metadata": {},
   "outputs": [
    {
     "name": "stdout",
     "output_type": "stream",
     "text": [
      "Defaulting to user installation because normal site-packages is not writeable\n",
      "Requirement already satisfied: gym[classic_control] in /home/rahul/.local/lib/python3.6/site-packages (0.25.2)\n",
      "Requirement already satisfied: cloudpickle>=1.2.0 in /home/rahul/.local/lib/python3.6/site-packages (from gym[classic_control]) (2.1.0)\n",
      "Requirement already satisfied: gym-notices>=0.0.4 in /home/rahul/.local/lib/python3.6/site-packages (from gym[classic_control]) (0.0.8)\n",
      "Requirement already satisfied: dataclasses==0.8 in /home/rahul/.local/lib/python3.6/site-packages (from gym[classic_control]) (0.8)\n",
      "Requirement already satisfied: importlib-metadata>=4.8.0 in /home/rahul/.local/lib/python3.6/site-packages (from gym[classic_control]) (4.8.3)\n",
      "Requirement already satisfied: numpy>=1.18.0 in /home/rahul/.local/lib/python3.6/site-packages (from gym[classic_control]) (1.19.5)\n",
      "Requirement already satisfied: pygame==2.1.0 in /home/rahul/.local/lib/python3.6/site-packages (from gym[classic_control]) (2.1.0)\n",
      "Requirement already satisfied: zipp>=0.5 in /home/rahul/.local/lib/python3.6/site-packages (from importlib-metadata>=4.8.0->gym[classic_control]) (3.6.0)\n",
      "Requirement already satisfied: typing-extensions>=3.6.4 in /home/rahul/.local/lib/python3.6/site-packages (from importlib-metadata>=4.8.0->gym[classic_control]) (4.1.1)\n",
      "Defaulting to user installation because normal site-packages is not writeable\n",
      "Requirement already satisfied: tqdm in /home/rahul/.local/lib/python3.6/site-packages (4.60.0)\n",
      "Defaulting to user installation because normal site-packages is not writeable\n",
      "Requirement already satisfied: gym[box2d] in /home/rahul/.local/lib/python3.6/site-packages (0.25.2)\n",
      "Requirement already satisfied: gym-notices>=0.0.4 in /home/rahul/.local/lib/python3.6/site-packages (from gym[box2d]) (0.0.8)\n",
      "Requirement already satisfied: importlib-metadata>=4.8.0 in /home/rahul/.local/lib/python3.6/site-packages (from gym[box2d]) (4.8.3)\n",
      "Requirement already satisfied: cloudpickle>=1.2.0 in /home/rahul/.local/lib/python3.6/site-packages (from gym[box2d]) (2.1.0)\n",
      "Requirement already satisfied: numpy>=1.18.0 in /home/rahul/.local/lib/python3.6/site-packages (from gym[box2d]) (1.19.5)\n",
      "Requirement already satisfied: dataclasses==0.8 in /home/rahul/.local/lib/python3.6/site-packages (from gym[box2d]) (0.8)\n",
      "Requirement already satisfied: box2d-py==2.3.5 in /home/rahul/.local/lib/python3.6/site-packages (from gym[box2d]) (2.3.5)\n",
      "Requirement already satisfied: pygame==2.1.0 in /home/rahul/.local/lib/python3.6/site-packages (from gym[box2d]) (2.1.0)\n",
      "Requirement already satisfied: swig==4.* in /home/rahul/.local/lib/python3.6/site-packages (from gym[box2d]) (4.0.2)\n",
      "Requirement already satisfied: zipp>=0.5 in /home/rahul/.local/lib/python3.6/site-packages (from importlib-metadata>=4.8.0->gym[box2d]) (3.6.0)\n",
      "Requirement already satisfied: typing-extensions>=3.6.4 in /home/rahul/.local/lib/python3.6/site-packages (from importlib-metadata>=4.8.0->gym[box2d]) (4.1.1)\n"
     ]
    }
   ],
   "source": [
    "!pip install gym[classic_control]\n",
    "!pip install tqdm\n",
    "!pip install gym[box2d]"
   ]
  },
  {
   "cell_type": "code",
   "execution_count": 2,
   "id": "3826a6f7",
   "metadata": {},
   "outputs": [
    {
     "name": "stderr",
     "output_type": "stream",
     "text": [
      "/home/rahul/.local/lib/python3.6/site-packages/gym/core.py:26: UserWarning: \u001b[33mWARN: Gym minimally supports python 3.6 as the python foundation not longer supports the version, please update your version to 3.7+\u001b[0m\n",
      "  \"Gym minimally supports python 3.6 as the python foundation not longer supports the version, please update your version to 3.7+\"\n"
     ]
    }
   ],
   "source": [
    "import numpy as np\n",
    "import gym\n",
    "import random\n",
    "from tqdm import tqdm\n",
    "import matplotlib.pyplot as plt \n",
    "import random\n",
    "import math\n",
    "# import progressbar\n",
    "import time"
   ]
  },
  {
   "cell_type": "code",
   "execution_count": 3,
   "id": "4f46c488",
   "metadata": {},
   "outputs": [],
   "source": [
    "env_name = \"Acrobot-v1\"\n",
    "render_Mode = \"human\"\n",
    "# env = gym.make(env_name)"
   ]
  },
  {
   "cell_type": "code",
   "execution_count": 4,
   "id": "40606fe8",
   "metadata": {},
   "outputs": [],
   "source": [
    "def getAngle(cos_val, sin_val):   \n",
    "    a_acos = math.acos(cos_val)\n",
    "    angle = 0\n",
    "    if sin_val < 0:\n",
    "        angle = math.degrees(-a_acos) % 360\n",
    "    else: \n",
    "        angle = math.degrees(a_acos)\n",
    "    return angle"
   ]
  },
  {
   "cell_type": "code",
   "execution_count": 5,
   "id": "e0987095",
   "metadata": {},
   "outputs": [],
   "source": [
    "def transformObs(obs):\n",
    "    ang1 = int(getAngle(obs[0], obs[1])/5)\n",
    "    ang2 = int(getAngle(obs[2], obs[3])/5)\n",
    "    new_obs = []\n",
    "    new_obs.append(ang1)\n",
    "    new_obs.append(ang2)\n",
    "    new_obs.append(int((obs[4] + 12.57)))\n",
    "    new_obs.append(int((obs[5] + 28.28)))\n",
    "    return new_obs"
   ]
  },
  {
   "cell_type": "code",
   "execution_count": 6,
   "id": "820ff420",
   "metadata": {},
   "outputs": [],
   "source": [
    "q = [[[[[0 for _ in range(3)] for _ in range(57)] for _ in range(26)] for _ in range(72)] for _ in range(72)]"
   ]
  },
  {
   "cell_type": "code",
   "execution_count": 7,
   "id": "330fb334",
   "metadata": {},
   "outputs": [],
   "source": [
    "next_state = [[[[[(-1, -1, -1, -1) for _ in range(3)] for _ in range(57)] for _ in range(26)] for _ in range(72)] for _ in range(72)]"
   ]
  },
  {
   "cell_type": "code",
   "execution_count": 8,
   "id": "fc5d430b",
   "metadata": {},
   "outputs": [],
   "source": [
    "gamma = 0.8\n",
    "alpha = 0.8"
   ]
  },
  {
   "cell_type": "code",
   "execution_count": 9,
   "id": "017a7157",
   "metadata": {},
   "outputs": [],
   "source": [
    "def getAction(obs, epsilon):\n",
    "    a, b, c, d = int(obs[0]), int(obs[1]), int(obs[2]), int(obs[3]) \n",
    "    val = random.uniform(0,1)\n",
    "    if val <= epsilon:\n",
    "        return random.randint(0,2)\n",
    "    else:  \n",
    "        max_q_val = -20000000\n",
    "        req_act = 0\n",
    "        for act in range(0, 3):\n",
    "            if next_state[a][b][c][d][act] != (-1, -1, -1, -1) and q[a][b][c][d][act] >= max_q_val:\n",
    "                max_q_val = q[a][b][c][d][act]\n",
    "                req_act = act\n",
    "        return req_act"
   ]
  },
  {
   "cell_type": "code",
   "execution_count": 10,
   "id": "c87d3446",
   "metadata": {},
   "outputs": [],
   "source": [
    "def performEpisode(epsilon):\n",
    "    Acrobot = gym.make(env_name)\n",
    "#     Acrobot = gym.make(env_name, render_mode=render_Mode)\n",
    "    pre_obs = Acrobot.reset()\n",
    "    pre_obs = transformObs(pre_obs)\n",
    "    act = getAction(pre_obs, epsilon)\n",
    "    done = False\n",
    "    while not done:\n",
    "        a, b, c, d = int(pre_obs[0]), int(pre_obs[1]), int(pre_obs[2]), int(pre_obs[3]) \n",
    "        pre_obs, reward, done, info = Acrobot.step(act)\n",
    "        pre_obs = transformObs(pre_obs)\n",
    "        act_next = getAction(pre_obs, epsilon)\n",
    "        a_n, b_n, c_n, d_n = int(pre_obs[0]), int(pre_obs[1]), int(pre_obs[2]), int(pre_obs[3])\n",
    "        next_state[a][b][c][d][act] = (a_n, b_n, c_n, d_n)\n",
    "        q[a][b][c][d][act] = q[a][b][c][d][act] + alpha*(reward + gamma*q[a_n][b_n][c_n][d_n][act_next] - q[a][b][c][d][act])\n",
    "        act = act_next\n",
    "    Acrobot.close()"
   ]
  },
  {
   "cell_type": "code",
   "execution_count": 11,
   "id": "d9cf3d11",
   "metadata": {},
   "outputs": [],
   "source": [
    "def getReward():\n",
    "    Acrobot = gym.make(env_name)\n",
    "    pre_obs = Acrobot.reset() \n",
    "    pre_obs = transformObs(pre_obs)\n",
    "    done = False\n",
    "    tot_reward = 0\n",
    "    while not done:\n",
    "        a, b, c, d = int(pre_obs[0]), int(pre_obs[1]), int(pre_obs[2]), int(pre_obs[3])\n",
    "        req_act = getAction(pre_obs, -1)\n",
    "        pre_obs, reward, done, info = Acrobot.step(req_act)\n",
    "        tot_reward += reward\n",
    "        pre_obs = transformObs(pre_obs)   \n",
    "    Acrobot.close() \n",
    "    return tot_reward"
   ]
  },
  {
   "cell_type": "code",
   "execution_count": 12,
   "id": "d5127783",
   "metadata": {},
   "outputs": [],
   "source": [
    "def reset_vals():\n",
    "    q = [[[[[0 for _ in range(3)] for _ in range(57)] for _ in range(26)] for _ in range(72)] for _ in range(72)]\n",
    "    next_state = [[[[[(-1, -1, -1, -1) for _ in range(3)] for _ in range(57)] for _ in range(26)] for _ in range(72)] for _ in range(72)]"
   ]
  },
  {
   "cell_type": "code",
   "execution_count": 13,
   "id": "e0c3e875",
   "metadata": {},
   "outputs": [
    {
     "name": "stderr",
     "output_type": "stream",
     "text": [
      "Loading…:   0%|                                                          | 0/160000 [00:00<?, ?it/s]/home/rahul/.local/lib/python3.6/site-packages/gym/core.py:318: DeprecationWarning: \u001b[33mWARN: Initializing wrapper in old step API which returns one bool instead of two. It is recommended to set `new_step_api=True` to use new step API. This will be the default behaviour in future.\u001b[0m\n",
      "  \"Initializing wrapper in old step API which returns one bool instead of two. It is recommended to set `new_step_api=True` to use new step API. This will be the default behaviour in future.\"\n",
      "/home/rahul/.local/lib/python3.6/site-packages/gym/wrappers/step_api_compatibility.py:40: DeprecationWarning: \u001b[33mWARN: Initializing environment in old step API which returns one bool instead of two. It is recommended to set `new_step_api=True` to use new step API. This will be the default behaviour in future.\u001b[0m\n",
      "  \"Initializing environment in old step API which returns one bool instead of two. It is recommended to set `new_step_api=True` to use new step API. This will be the default behaviour in future.\"\n",
      "Loading…: 100%|███████████████████████████████████████████| 160000/160000 [2:20:26<00:00, 18.99it/s]\n",
      "Loading…: 100%|███████████████████████████████████████████| 160000/160000 [2:37:33<00:00, 16.92it/s]\n",
      "Loading…: 100%|███████████████████████████████████████████| 160000/160000 [2:55:19<00:00, 15.21it/s]\n"
     ]
    }
   ],
   "source": [
    "x_rew = []\n",
    "avg_reww_0_0_1 = []\n",
    "avg_reww_0_1 = []\n",
    "# avg_reww_0_2 = []\n",
    "avg_reww_0_3 = []\n",
    "\n",
    "for cnt in tqdm (range (160000), desc=\"Loading…\", ascii=False, ncols=100):\n",
    "    performEpisode(0.01)\n",
    "    if cnt>0 and cnt%1600 == 0:\n",
    "        rew = 0\n",
    "        for _ in range(200):\n",
    "            rew += getReward()\n",
    "        avg_reww_0_0_1.append(rew/200)    \n",
    "        x_rew.append(cnt/1600)\n",
    "        \n",
    "reset_vals()        \n",
    "for cnt in tqdm (range (160000), desc=\"Loading…\", ascii=False, ncols=100):\n",
    "    performEpisode(0.1)\n",
    "    if cnt>0 and cnt%1600 == 0:\n",
    "        rew = 0\n",
    "        for _ in range(200):\n",
    "            rew += getReward()\n",
    "        avg_reww_0_1.append(rew/200)    \n",
    "\n",
    "# reset_vals()        \n",
    "# for cnt in tqdm (range (200000), desc=\"Loading…\", ascii=False, ncols=100):\n",
    "#     performEpisode(0.2)\n",
    "#     if cnt>0 and cnt%2000 == 0:\n",
    "#         rew = 0\n",
    "#         for _ in range(200):\n",
    "#             rew += getReward()\n",
    "#         avg_reww_0_2.append(rew/200)\n",
    "        \n",
    "reset_vals()        \n",
    "for cnt in tqdm (range (160000), desc=\"Loading…\", ascii=False, ncols=100):\n",
    "    performEpisode(0.3)\n",
    "    if cnt>0 and cnt%1600 == 0:\n",
    "        rew = 0\n",
    "        for _ in range(200):\n",
    "            rew += getReward()\n",
    "        avg_reww_0_3.append(rew/200)        "
   ]
  },
  {
   "cell_type": "code",
   "execution_count": 15,
   "id": "720b9004",
   "metadata": {},
   "outputs": [
    {
     "data": {
      "image/png": "[encoded data removed]",
      "text/plain": [
       "<matplotlib.figure.Figure at 0x7fae95f82630>"
      ]
     },
     "metadata": {
      "needs_background": "light"
     },
     "output_type": "display_data"
    }
   ],
   "source": [
    "# plt.plot(x_rew, avg_reww)\n",
    "# plt.xlabel(\"Episodes\")\n",
    "# plt.ylabel(\"Average Reward\")\n",
    "# plt.show()\n",
    "fig, ax = plt.subplots()\n",
    "\n",
    "ax.plot(avg_reww_0_0_1, color = 'green', label = '0.01')\n",
    "ax.plot(avg_reww_0_1, color = 'red', label = '0.1')\n",
    "# ax.plot(avg_reww_0_2, color = 'violet', label = '0.2')\n",
    "ax.plot(avg_reww_0_3, color = 'blue', label = '0.3')\n",
    "ax.legend(loc = 'upper left')\n",
    "plt.show()"
   ]
  },
  {
   "cell_type": "code",
   "execution_count": null,
   "id": "e1d53c28",
   "metadata": {},
   "outputs": [],
   "source": []
  }
 ],
 "metadata": {
  "kernelspec": {
   "display_name": "Python 3",
   "language": "python",
   "name": "python3"
  },
  "language_info": {
   "codemirror_mode": {
    "name": "ipython",
    "version": 3
   },
   "file_extension": ".py",
   "mimetype": "text/x-python",
   "name": "python",
   "nbconvert_exporter": "python",
   "pygments_lexer": "ipython3",
   "version": "3.6.9"
  }
 },
 "nbformat": 4,
 "nbformat_minor": 5
}
