{
 "cells": [
  {
   "cell_type": "code",
   "execution_count": 2,
   "metadata": {},
   "outputs": [],
   "source": [
    "import torch\n",
    "import torch.nn as nn\n",
    "import torch.nn.functional as F\n",
    "from torch.distributions import Categorical\n",
    "from torch.autograd import Variable\n",
    "import matplotlib.pyplot as plt\n",
    "import numpy as np\n",
    "import gymnasium as gym\n",
    "import math"
   ]
  },
  {
   "cell_type": "code",
   "execution_count": 3,
   "metadata": {},
   "outputs": [],
   "source": [
    "class Actor(nn.Module):\n",
    "    def __init__(self):\n",
    "        super(Actor, self).__init__()\n",
    "\n",
    "        self.fc1 = nn.Linear(4, 24)\n",
    "        self.fc2 = nn.Linear(24, 36)\n",
    "        self.fc3 = nn.Linear(36, 3)\n",
    "\n",
    "    def forward(self, x):\n",
    "        x = F.relu(self.fc1(x))\n",
    "        x = F.relu(self.fc2(x))\n",
    "        x = F.sigmoid(self.fc3(x))\n",
    "        return x"
   ]
  },
  {
   "cell_type": "code",
   "execution_count": 4,
   "metadata": {},
   "outputs": [],
   "source": [
    "class Critic(nn.Module):\n",
    "    def __init__(self):\n",
    "        super(Critic, self).__init__()\n",
    "\n",
    "        self.fc1 = nn.Linear(4, 24)\n",
    "        self.fc2 = nn.Linear(24, 36)\n",
    "        self.fc3 = nn.Linear(36, 1)\n",
    "\n",
    "    def forward(self, x):\n",
    "        x = F.relu(self.fc1(x))\n",
    "        x = F.relu(self.fc2(x))\n",
    "        x = self.fc3(x)\n",
    "        return x"
   ]
  },
  {
   "cell_type": "code",
   "execution_count": 5,
   "metadata": {},
   "outputs": [
    {
     "name": "stderr",
     "output_type": "stream",
     "text": [
      "/home/devraj/.pyenv/versions/3.10.4/lib/python3.10/site-packages/torch/nn/functional.py:1960: UserWarning: nn.functional.sigmoid is deprecated. Use torch.sigmoid instead.\n",
      "  warnings.warn(\"nn.functional.sigmoid is deprecated. Use torch.sigmoid instead.\")\n"
     ]
    },
    {
     "name": "stdout",
     "output_type": "stream",
     "text": [
      "Episode: 10 \tDuration: 763\n"
     ]
    },
    {
     "ename": "KeyboardInterrupt",
     "evalue": "",
     "output_type": "error",
     "traceback": [
      "\u001b[0;31m---------------------------------------------------------------------------\u001b[0m",
      "\u001b[0;31mKeyboardInterrupt\u001b[0m                         Traceback (most recent call last)",
      "Cell \u001b[0;32mIn [5], line 152\u001b[0m\n\u001b[1;32m    148\u001b[0m             steps \u001b[39m=\u001b[39m \u001b[39m0\u001b[39m\n\u001b[1;32m    151\u001b[0m \u001b[39mif\u001b[39;00m \u001b[39m__name__\u001b[39m \u001b[39m==\u001b[39m \u001b[39m'\u001b[39m\u001b[39m__main__\u001b[39m\u001b[39m'\u001b[39m:\n\u001b[0;32m--> 152\u001b[0m     main()\n",
      "Cell \u001b[0;32mIn [5], line 44\u001b[0m, in \u001b[0;36mmain\u001b[0;34m()\u001b[0m\n\u001b[1;32m     41\u001b[0m \u001b[39mfor\u001b[39;00m t \u001b[39min\u001b[39;00m \u001b[39mrange\u001b[39m(\u001b[39m1000\u001b[39m):\n\u001b[1;32m     43\u001b[0m     probs \u001b[39m=\u001b[39m policy_net(state)\n\u001b[0;32m---> 44\u001b[0m     m \u001b[39m=\u001b[39m Categorical(probs)\n\u001b[1;32m     45\u001b[0m     action \u001b[39m=\u001b[39m m\u001b[39m.\u001b[39msample()\n\u001b[1;32m     47\u001b[0m     value_1 \u001b[39m=\u001b[39m state_net(state)\n",
      "File \u001b[0;32m~/.pyenv/versions/3.10.4/lib/python3.10/site-packages/torch/distributions/categorical.py:64\u001b[0m, in \u001b[0;36mCategorical.__init__\u001b[0;34m(self, probs, logits, validate_args)\u001b[0m\n\u001b[1;32m     62\u001b[0m \u001b[39mself\u001b[39m\u001b[39m.\u001b[39m_num_events \u001b[39m=\u001b[39m \u001b[39mself\u001b[39m\u001b[39m.\u001b[39m_param\u001b[39m.\u001b[39msize()[\u001b[39m-\u001b[39m\u001b[39m1\u001b[39m]\n\u001b[1;32m     63\u001b[0m batch_shape \u001b[39m=\u001b[39m \u001b[39mself\u001b[39m\u001b[39m.\u001b[39m_param\u001b[39m.\u001b[39msize()[:\u001b[39m-\u001b[39m\u001b[39m1\u001b[39m] \u001b[39mif\u001b[39;00m \u001b[39mself\u001b[39m\u001b[39m.\u001b[39m_param\u001b[39m.\u001b[39mndimension() \u001b[39m>\u001b[39m \u001b[39m1\u001b[39m \u001b[39melse\u001b[39;00m torch\u001b[39m.\u001b[39mSize()\n\u001b[0;32m---> 64\u001b[0m \u001b[39msuper\u001b[39;49m(Categorical, \u001b[39mself\u001b[39;49m)\u001b[39m.\u001b[39;49m\u001b[39m__init__\u001b[39;49m(batch_shape, validate_args\u001b[39m=\u001b[39;49mvalidate_args)\n",
      "File \u001b[0;32m~/.pyenv/versions/3.10.4/lib/python3.10/site-packages/torch/distributions/distribution.py:53\u001b[0m, in \u001b[0;36mDistribution.__init__\u001b[0;34m(self, batch_shape, event_shape, validate_args)\u001b[0m\n\u001b[1;32m     51\u001b[0m     \u001b[39mcontinue\u001b[39;00m  \u001b[39m# skip checking lazily-constructed args\u001b[39;00m\n\u001b[1;32m     52\u001b[0m value \u001b[39m=\u001b[39m \u001b[39mgetattr\u001b[39m(\u001b[39mself\u001b[39m, param)\n\u001b[0;32m---> 53\u001b[0m valid \u001b[39m=\u001b[39m constraint\u001b[39m.\u001b[39;49mcheck(value)\n\u001b[1;32m     54\u001b[0m \u001b[39mif\u001b[39;00m \u001b[39mnot\u001b[39;00m valid\u001b[39m.\u001b[39mall():\n\u001b[1;32m     55\u001b[0m     \u001b[39mraise\u001b[39;00m \u001b[39mValueError\u001b[39;00m(\n\u001b[1;32m     56\u001b[0m         \u001b[39mf\u001b[39m\u001b[39m\"\u001b[39m\u001b[39mExpected parameter \u001b[39m\u001b[39m{\u001b[39;00mparam\u001b[39m}\u001b[39;00m\u001b[39m \u001b[39m\u001b[39m\"\u001b[39m\n\u001b[1;32m     57\u001b[0m         \u001b[39mf\u001b[39m\u001b[39m\"\u001b[39m\u001b[39m(\u001b[39m\u001b[39m{\u001b[39;00m\u001b[39mtype\u001b[39m(value)\u001b[39m.\u001b[39m\u001b[39m__name__\u001b[39m\u001b[39m}\u001b[39;00m\u001b[39m of shape \u001b[39m\u001b[39m{\u001b[39;00m\u001b[39mtuple\u001b[39m(value\u001b[39m.\u001b[39mshape)\u001b[39m}\u001b[39;00m\u001b[39m) \u001b[39m\u001b[39m\"\u001b[39m\n\u001b[0;32m   (...)\u001b[0m\n\u001b[1;32m     60\u001b[0m         \u001b[39mf\u001b[39m\u001b[39m\"\u001b[39m\u001b[39mbut found invalid values:\u001b[39m\u001b[39m\\n\u001b[39;00m\u001b[39m{\u001b[39;00mvalue\u001b[39m}\u001b[39;00m\u001b[39m\"\u001b[39m\n\u001b[1;32m     61\u001b[0m     )\n",
      "File \u001b[0;32m~/.pyenv/versions/3.10.4/lib/python3.10/site-packages/torch/distributions/constraints.py:406\u001b[0m, in \u001b[0;36m_Simplex.check\u001b[0;34m(self, value)\u001b[0m\n\u001b[1;32m    405\u001b[0m \u001b[39mdef\u001b[39;00m \u001b[39mcheck\u001b[39m(\u001b[39mself\u001b[39m, value):\n\u001b[0;32m--> 406\u001b[0m     \u001b[39mreturn\u001b[39;00m torch\u001b[39m.\u001b[39mall(value \u001b[39m>\u001b[39m\u001b[39m=\u001b[39m \u001b[39m0\u001b[39m, dim\u001b[39m=\u001b[39m\u001b[39m-\u001b[39m\u001b[39m1\u001b[39m) \u001b[39m&\u001b[39m ((value\u001b[39m.\u001b[39;49msum(\u001b[39m-\u001b[39;49m\u001b[39m1\u001b[39;49m) \u001b[39m-\u001b[39;49m \u001b[39m1\u001b[39;49m)\u001b[39m.\u001b[39;49mabs() \u001b[39m<\u001b[39m \u001b[39m1e-6\u001b[39m)\n",
      "\u001b[0;31mKeyboardInterrupt\u001b[0m: "
     ]
    }
   ],
   "source": [
    "def transformState(S_t):\n",
    "    return [ math.atan2( S_t[0], S_t[1]), math.atan2( S_t[2], S_t[3]), S_t[4], S_t[5] ]\n",
    "\n",
    "episode_durations = []\n",
    "episode_rewards = []\n",
    "episode_success = []\n",
    "\n",
    "def main():\n",
    "\n",
    "    # Parameters\n",
    "    num_episode = 1000\n",
    "    batch_size = 5\n",
    "    learning_rate = 0.01\n",
    "    gamma = 0.99\n",
    "\n",
    "    env = gym.make('Acrobot-v1')\n",
    "    policy_net = Actor()\n",
    "    policy_optimizer = torch.optim.Adam(policy_net.parameters(), lr=learning_rate)\n",
    "\n",
    "    state_net = Critic()\n",
    "    state_optimizer = torch.optim.Adam(state_net.parameters(), lr=learning_rate)\n",
    "    loss_fn = nn.MSELoss()\n",
    "\n",
    "    # Batch History\n",
    "    state_pool = []\n",
    "    action_pool = []\n",
    "    reward_pool = []\n",
    "    delta_pool = []\n",
    "    value1_pool = []\n",
    "    value2_pool =[]\n",
    "    steps = 0\n",
    "\n",
    "\n",
    "    for e in range(num_episode):\n",
    "\n",
    "        state = env.reset()[0]\n",
    "        state = np.array(transformState(state))\n",
    "        state = torch.from_numpy(state).float()\n",
    "        state = Variable(state)\n",
    "\n",
    "        for t in range(1000):\n",
    "\n",
    "            probs = policy_net(state)\n",
    "            m = Categorical(probs)\n",
    "            action = m.sample()\n",
    "\n",
    "            value_1 = state_net(state)\n",
    "\n",
    "            action = action.data.numpy().astype(int)\n",
    "            stepData = env.step(action)\n",
    "            next_state, reward, done, truncated, info = stepData[0], stepData[1], stepData[2], stepData[3], stepData[4]\n",
    "            next_state = np.array(transformState(next_state))\n",
    "\n",
    "            value_2 = state_net(torch.from_numpy(next_state).float())\n",
    "\n",
    "            # To mark boundarys between episodes\n",
    "            if done:\n",
    "                # value_t = Variable(0)\n",
    "                reward = 0\n",
    "\n",
    "            state_pool.append(state)\n",
    "            action_pool.append(float(action))\n",
    "            reward_pool.append(reward)\n",
    "\n",
    "            delta_pool.append(reward + gamma*float(value_2) - float(value_1))\n",
    "\n",
    "            value1_pool.append(value_1)\n",
    "            value2_pool.append(value_2)\n",
    "            # print(value_1)\n",
    "\n",
    "            state = next_state\n",
    "            state = torch.from_numpy(state).float()\n",
    "            state = Variable(state)\n",
    "\n",
    "            steps += 1\n",
    "\n",
    "            if done:\n",
    "                episode_durations.append(t + 1)\n",
    "                print(\"Episode:\",e,\"\\tDuration:\",t+1)\n",
    "                episode_rewards.append(-t)\n",
    "\n",
    "                break\n",
    "\n",
    "        # Update policy\n",
    "        if e > 0 and e % batch_size == 0:\n",
    "\n",
    "            # running_delta = 0\n",
    "            I = 1\n",
    "\n",
    "            for i in reversed(range(steps)):\n",
    "                if reward_pool[i] == 0:\n",
    "                    # running_delta = 0\n",
    "                    I = 1\n",
    "                else:\n",
    "                    # running_delta = running_delta + delta_pool[i]\n",
    "                    delta_pool[i] = I*delta_pool[i]\n",
    "                    I = gamma*I\n",
    "\n",
    "            # Normalize delta\n",
    "            # delta_mean = np.mean(delta_pool)\n",
    "            # delta_std = np.std(delta_pool)\n",
    "            # for i in range(steps):\n",
    "            #     delta_pool[i] = (delta_pool[i] - delta_mean) / delta_std\n",
    "\n",
    "            # Gradient Desent\n",
    "\n",
    "            state_optimizer.zero_grad()\n",
    "            for i in range(steps-1):\n",
    "                state = state_pool[i]\n",
    "                action = Variable(torch.FloatTensor([action_pool[i]]))\n",
    "                delta = delta_pool[i]\n",
    "                value1 = value1_pool[i]\n",
    "                value2 = value2_pool[i]\n",
    "\n",
    "                loss = reward + delta*value2 - value1 \n",
    "                loss = Variable(loss, requires_grad=True)\n",
    "\n",
    "                # probs = state_net(state)\n",
    "                # m = Categorical(probs)\n",
    "                # loss = m.probs * delta\n",
    "\n",
    "                # print(loss)\n",
    "                # print(loss)\n",
    "                loss.backward()\n",
    "            state_optimizer.step()\n",
    "\n",
    "\n",
    "\n",
    "            policy_optimizer.zero_grad()\n",
    "            for i in range(steps):\n",
    "                state = state_pool[i]\n",
    "                action = Variable(torch.FloatTensor([action_pool[i]]))\n",
    "                delta = delta_pool[i]\n",
    "\n",
    "                probs = policy_net(state)\n",
    "                m = Categorical(probs)\n",
    "                loss = -m.log_prob(action) * delta  # Negtive score function x reward\n",
    "                loss.backward()\n",
    "            policy_optimizer.step()\n",
    "\n",
    "            \n",
    "            state_pool = []\n",
    "            action_pool = []\n",
    "            reward_pool = []\n",
    "            delta_pool = []\n",
    "            steps = 0\n",
    "\n",
    "\n",
    "if __name__ == '__main__':\n",
    "    main()"
   ]
  },
  {
   "cell_type": "code",
   "execution_count": null,
   "metadata": {},
   "outputs": [
    {
     "data": {
      "image/png": "[encoded data removed]",
      "text/plain": [
       "<Figure size 640x480 with 1 Axes>"
      ]
     },
     "metadata": {},
     "output_type": "display_data"
    }
   ],
   "source": [
    "plt.figure()\n",
    "plt.plot(episode_rewards)\n",
    "plt.show()"
   ]
  },
  {
   "cell_type": "code",
   "execution_count": null,
   "metadata": {},
   "outputs": [],
   "source": []
  }
 ],
 "metadata": {
  "kernelspec": {
   "display_name": "Python 3.10.4 64-bit ('3.10.4')",
   "language": "python",
   "name": "python3"
  },
  "language_info": {
   "codemirror_mode": {
    "name": "ipython",
    "version": 3
   },
   "file_extension": ".py",
   "mimetype": "text/x-python",
   "name": "python",
   "nbconvert_exporter": "python",
   "pygments_lexer": "ipython3",
   "version": "3.10.4"
  },
  "orig_nbformat": 4,
  "vscode": {
   "interpreter": {
    "hash": "7d9d6998194bbd8c449c23903b14dd3eb7169db2c7066c14bbfe3a3189de9d7f"
   }
  }
 },
 "nbformat": 4,
 "nbformat_minor": 2
}
