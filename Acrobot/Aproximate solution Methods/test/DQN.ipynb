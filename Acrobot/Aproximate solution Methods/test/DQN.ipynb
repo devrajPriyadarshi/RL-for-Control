{
 "cells": [
  {
   "cell_type": "code",
   "execution_count": 1,
   "metadata": {},
   "outputs": [
    {
     "name": "stdout",
     "output_type": "stream",
     "text": [
      "Using Device: cpu\n"
     ]
    }
   ],
   "source": [
    "import torch\n",
    "import torch.nn as nn\n",
    "import torch.nn.functional as F\n",
    "\n",
    "import math\n",
    "import numpy as np\n",
    "import gymnasium as gym\n",
    "import matplotlib.pyplot as plt\n",
    "from collections import deque\n",
    "\n",
    "device = torch.device('cuda' if torch.cuda.is_available() else 'cpu')\n",
    "device = \"cpu\"\n",
    "print(\"Using Device:\", device)"
   ]
  },
  {
   "cell_type": "code",
   "execution_count": 2,
   "metadata": {},
   "outputs": [],
   "source": [
    "class DQN(nn.Module):\n",
    "\n",
    "\n",
    "    def __init__(self, state_space_dim=4, action_space_dim=3):\n",
    "        super(DQN, self).__init__()\n",
    "\n",
    "        self.lin1 = nn.Linear(state_space_dim,64)\n",
    "        self.lin2 = nn.Linear(64,128)\n",
    "        self.lin3 = nn.Linear(128,256)\n",
    "        self.lin4 = nn.Linear(256,128)\n",
    "        self.lin5 = nn.Linear(128,64)\n",
    "        self.lin6 = nn.Linear(64, action_space_dim)\n",
    "\n",
    "    def forward(self, x):\n",
    "        x = x.to(device)\n",
    "        x = F.relu(self.lin1(x))\n",
    "        x = F.relu(self.lin2(x))\n",
    "        x = F.relu(self.lin3(x))\n",
    "        x = F.relu(self.lin4(x))\n",
    "        x = F.relu(self.lin5(x))\n",
    "        x = self.lin6(x)\n",
    "        return x\n"
   ]
  },
  {
   "cell_type": "code",
   "execution_count": 3,
   "metadata": {},
   "outputs": [],
   "source": [
    "obs_feat = 4\n",
    "act_feat = 3\n",
    "\n",
    "main_nn = DQN(obs_feat, act_feat)#.to(device)\n",
    "target_nn = DQN(obs_feat, act_feat)#.to(device)\n",
    "\n",
    "optimizer = torch.optim.RMSprop(main_nn.parameters(), lr=0.0001)\n",
    "loss_fn = nn.MSELoss()"
   ]
  },
  {
   "cell_type": "code",
   "execution_count": 4,
   "metadata": {},
   "outputs": [],
   "source": [
    "class ReplayBuffer(object):\n",
    "  \"\"\"Experience replay buffer that samples uniformly.\"\"\"\n",
    "  def __init__(self, size, device=\"cpu\"):\n",
    "    \"\"\"Initializes the buffer.\"\"\"\n",
    "    self.buffer = deque(maxlen=size)\n",
    "    self.device = \"cpu\"#device\n",
    "\n",
    "  def add(self, state, action, reward, next_state, done):\n",
    "    self.buffer.append((state, action, reward, next_state, done))\n",
    "\n",
    "  def __len__(self):\n",
    "    return len(self.buffer)\n",
    "\n",
    "  def sample(self, num_samples):\n",
    "    states, actions, rewards, next_states, dones = [], [], [], [], []\n",
    "    idx = np.random.choice(len(self.buffer), num_samples)\n",
    "    for i in idx:\n",
    "      elem = self.buffer[i]\n",
    "      state, action, reward, next_state, done = elem\n",
    "      states.append(np.array(state, copy=False))\n",
    "      actions.append(np.array(action, copy=False))\n",
    "      rewards.append(reward)\n",
    "      next_states.append(np.array(next_state, copy=False))\n",
    "      dones.append(done)\n",
    "    states = torch.as_tensor(np.array(states), device=self.device)\n",
    "    actions = torch.as_tensor(np.array(actions), device=self.device)\n",
    "    rewards = torch.as_tensor(\n",
    "        np.array(rewards, dtype=np.float32), device=self.device\n",
    "    )\n",
    "    next_states = torch.as_tensor(np.array(next_states), device=self.device)\n",
    "    dones = torch.as_tensor(np.array(dones, dtype=np.float32), device=self.device)\n",
    "    return states, actions, rewards, next_states, dones"
   ]
  },
  {
   "cell_type": "code",
   "execution_count": 5,
   "metadata": {},
   "outputs": [],
   "source": [
    "def select_epsilon_greedy_action(state, epsilon):\n",
    "  \"\"\"Take random action with probability epsilon, else take best action.\"\"\"\n",
    "  result = np.random.uniform()\n",
    "  if result < epsilon:\n",
    "    return env.action_space.sample() # Random action (left or right).\n",
    "  else:\n",
    "    qs = main_nn(state).cpu().data.numpy()\n",
    "    return np.argmax(qs) # Greedy action for state."
   ]
  },
  {
   "cell_type": "code",
   "execution_count": 6,
   "metadata": {},
   "outputs": [],
   "source": [
    "def train_step(states, actions, rewards, next_states, dones):\n",
    "  \"\"\"Perform a training iteration on a batch of data sampled from the experience\n",
    "  replay buffer.\n",
    "  \"\"\"\n",
    "  # Calculate targets.\n",
    "  max_next_qs = target_nn(next_states).max(-1).values\n",
    "  target = rewards + (1.0 - dones) * discount * max_next_qs\n",
    "  qs = main_nn(states)\n",
    "  action_masks = F.one_hot(actions, act_feat)\n",
    "  masked_qs = (action_masks * qs).sum(dim=-1)\n",
    "  loss = loss_fn(masked_qs, target.detach())\n",
    "  #nn.utils.clip_grad_norm_(loss, max_norm=10)\n",
    "  optimizer.zero_grad()\n",
    "  loss.backward()\n",
    "  optimizer.step()\n",
    "  return loss"
   ]
  },
  {
   "cell_type": "code",
   "execution_count": 7,
   "metadata": {},
   "outputs": [],
   "source": [
    "def transformState(S_t):\n",
    "    return [ math.atan2( S_t[0], S_t[1]), math.atan2( S_t[2], S_t[3]), S_t[4], S_t[5] ]\n"
   ]
  },
  {
   "cell_type": "code",
   "execution_count": 8,
   "metadata": {},
   "outputs": [
    {
     "name": "stdout",
     "output_type": "stream",
     "text": [
      "Episode 0/1000. Epsilon: 0.999. Reward in last 100 episodes: -1000.00\n",
      "Episode 50/1000. Epsilon: 0.949. Reward in last 100 episodes: -960.78\n",
      "Episode 100/1000. Epsilon: 0.899. Reward in last 100 episodes: -944.63\n",
      "Episode 150/1000. Epsilon: 0.849. Reward in last 100 episodes: -947.99\n"
     ]
    },
    {
     "ename": "KeyboardInterrupt",
     "evalue": "",
     "output_type": "error",
     "traceback": [
      "\u001b[0;31m---------------------------------------------------------------------------\u001b[0m",
      "\u001b[0;31mKeyboardInterrupt\u001b[0m                         Traceback (most recent call last)",
      "Cell \u001b[0;32mIn [8], line 35\u001b[0m\n\u001b[1;32m     33\u001b[0m \u001b[39mif\u001b[39;00m \u001b[39mlen\u001b[39m(buffer) \u001b[39m>\u001b[39m batch_size:\n\u001b[1;32m     34\u001b[0m   states, actions, rewards, next_states, dones \u001b[39m=\u001b[39m buffer\u001b[39m.\u001b[39msample(batch_size)\n\u001b[0;32m---> 35\u001b[0m   loss \u001b[39m=\u001b[39m train_step(states, actions, rewards, next_states, dones)\n\u001b[1;32m     36\u001b[0m \u001b[39mif\u001b[39;00m done:\n\u001b[1;32m     37\u001b[0m   \u001b[39mbreak\u001b[39;00m\n",
      "Cell \u001b[0;32mIn [6], line 15\u001b[0m, in \u001b[0;36mtrain_step\u001b[0;34m(states, actions, rewards, next_states, dones)\u001b[0m\n\u001b[1;32m     13\u001b[0m optimizer\u001b[39m.\u001b[39mzero_grad()\n\u001b[1;32m     14\u001b[0m loss\u001b[39m.\u001b[39mbackward()\n\u001b[0;32m---> 15\u001b[0m optimizer\u001b[39m.\u001b[39;49mstep()\n\u001b[1;32m     16\u001b[0m \u001b[39mreturn\u001b[39;00m loss\n",
      "File \u001b[0;32m~/.pyenv/versions/3.10.4/lib/python3.10/site-packages/torch/optim/optimizer.py:113\u001b[0m, in \u001b[0;36mOptimizer._hook_for_profile.<locals>.profile_hook_step.<locals>.wrapper\u001b[0;34m(*args, **kwargs)\u001b[0m\n\u001b[1;32m    111\u001b[0m profile_name \u001b[39m=\u001b[39m \u001b[39m\"\u001b[39m\u001b[39mOptimizer.step#\u001b[39m\u001b[39m{}\u001b[39;00m\u001b[39m.step\u001b[39m\u001b[39m\"\u001b[39m\u001b[39m.\u001b[39mformat(obj\u001b[39m.\u001b[39m\u001b[39m__class__\u001b[39m\u001b[39m.\u001b[39m\u001b[39m__name__\u001b[39m)\n\u001b[1;32m    112\u001b[0m \u001b[39mwith\u001b[39;00m torch\u001b[39m.\u001b[39mautograd\u001b[39m.\u001b[39mprofiler\u001b[39m.\u001b[39mrecord_function(profile_name):\n\u001b[0;32m--> 113\u001b[0m     \u001b[39mreturn\u001b[39;00m func(\u001b[39m*\u001b[39;49margs, \u001b[39m*\u001b[39;49m\u001b[39m*\u001b[39;49mkwargs)\n",
      "File \u001b[0;32m~/.pyenv/versions/3.10.4/lib/python3.10/site-packages/torch/autograd/grad_mode.py:27\u001b[0m, in \u001b[0;36m_DecoratorContextManager.__call__.<locals>.decorate_context\u001b[0;34m(*args, **kwargs)\u001b[0m\n\u001b[1;32m     24\u001b[0m \u001b[39m@functools\u001b[39m\u001b[39m.\u001b[39mwraps(func)\n\u001b[1;32m     25\u001b[0m \u001b[39mdef\u001b[39;00m \u001b[39mdecorate_context\u001b[39m(\u001b[39m*\u001b[39margs, \u001b[39m*\u001b[39m\u001b[39m*\u001b[39mkwargs):\n\u001b[1;32m     26\u001b[0m     \u001b[39mwith\u001b[39;00m \u001b[39mself\u001b[39m\u001b[39m.\u001b[39mclone():\n\u001b[0;32m---> 27\u001b[0m         \u001b[39mreturn\u001b[39;00m func(\u001b[39m*\u001b[39;49margs, \u001b[39m*\u001b[39;49m\u001b[39m*\u001b[39;49mkwargs)\n",
      "File \u001b[0;32m~/.pyenv/versions/3.10.4/lib/python3.10/site-packages/torch/optim/rmsprop.py:141\u001b[0m, in \u001b[0;36mRMSprop.step\u001b[0;34m(self, closure)\u001b[0m\n\u001b[1;32m    136\u001b[0m             grad_avgs\u001b[39m.\u001b[39mappend(state[\u001b[39m'\u001b[39m\u001b[39mgrad_avg\u001b[39m\u001b[39m'\u001b[39m])\n\u001b[1;32m    138\u001b[0m         state[\u001b[39m'\u001b[39m\u001b[39mstep\u001b[39m\u001b[39m'\u001b[39m] \u001b[39m+\u001b[39m\u001b[39m=\u001b[39m \u001b[39m1\u001b[39m\n\u001b[0;32m--> 141\u001b[0m     rmsprop(params_with_grad,\n\u001b[1;32m    142\u001b[0m             grads,\n\u001b[1;32m    143\u001b[0m             square_avgs,\n\u001b[1;32m    144\u001b[0m             grad_avgs,\n\u001b[1;32m    145\u001b[0m             momentum_buffer_list,\n\u001b[1;32m    146\u001b[0m             lr\u001b[39m=\u001b[39;49mgroup[\u001b[39m'\u001b[39;49m\u001b[39mlr\u001b[39;49m\u001b[39m'\u001b[39;49m],\n\u001b[1;32m    147\u001b[0m             alpha\u001b[39m=\u001b[39;49mgroup[\u001b[39m'\u001b[39;49m\u001b[39malpha\u001b[39;49m\u001b[39m'\u001b[39;49m],\n\u001b[1;32m    148\u001b[0m             eps\u001b[39m=\u001b[39;49mgroup[\u001b[39m'\u001b[39;49m\u001b[39meps\u001b[39;49m\u001b[39m'\u001b[39;49m],\n\u001b[1;32m    149\u001b[0m             weight_decay\u001b[39m=\u001b[39;49mgroup[\u001b[39m'\u001b[39;49m\u001b[39mweight_decay\u001b[39;49m\u001b[39m'\u001b[39;49m],\n\u001b[1;32m    150\u001b[0m             momentum\u001b[39m=\u001b[39;49mgroup[\u001b[39m'\u001b[39;49m\u001b[39mmomentum\u001b[39;49m\u001b[39m'\u001b[39;49m],\n\u001b[1;32m    151\u001b[0m             centered\u001b[39m=\u001b[39;49mgroup[\u001b[39m'\u001b[39;49m\u001b[39mcentered\u001b[39;49m\u001b[39m'\u001b[39;49m],\n\u001b[1;32m    152\u001b[0m             foreach\u001b[39m=\u001b[39;49mgroup[\u001b[39m'\u001b[39;49m\u001b[39mforeach\u001b[39;49m\u001b[39m'\u001b[39;49m])\n\u001b[1;32m    154\u001b[0m \u001b[39mreturn\u001b[39;00m loss\n",
      "File \u001b[0;32m~/.pyenv/versions/3.10.4/lib/python3.10/site-packages/torch/optim/rmsprop.py:188\u001b[0m, in \u001b[0;36mrmsprop\u001b[0;34m(params, grads, square_avgs, grad_avgs, momentum_buffer_list, foreach, lr, alpha, eps, weight_decay, momentum, centered)\u001b[0m\n\u001b[1;32m    185\u001b[0m \u001b[39melse\u001b[39;00m:\n\u001b[1;32m    186\u001b[0m     func \u001b[39m=\u001b[39m _single_tensor_rmsprop\n\u001b[0;32m--> 188\u001b[0m func(params,\n\u001b[1;32m    189\u001b[0m      grads,\n\u001b[1;32m    190\u001b[0m      square_avgs,\n\u001b[1;32m    191\u001b[0m      grad_avgs,\n\u001b[1;32m    192\u001b[0m      momentum_buffer_list,\n\u001b[1;32m    193\u001b[0m      lr\u001b[39m=\u001b[39;49mlr,\n\u001b[1;32m    194\u001b[0m      alpha\u001b[39m=\u001b[39;49malpha,\n\u001b[1;32m    195\u001b[0m      eps\u001b[39m=\u001b[39;49meps,\n\u001b[1;32m    196\u001b[0m      weight_decay\u001b[39m=\u001b[39;49mweight_decay,\n\u001b[1;32m    197\u001b[0m      momentum\u001b[39m=\u001b[39;49mmomentum,\n\u001b[1;32m    198\u001b[0m      centered\u001b[39m=\u001b[39;49mcentered)\n",
      "File \u001b[0;32m~/.pyenv/versions/3.10.4/lib/python3.10/site-packages/torch/optim/rmsprop.py:221\u001b[0m, in \u001b[0;36m_single_tensor_rmsprop\u001b[0;34m(params, grads, square_avgs, grad_avgs, momentum_buffer_list, lr, alpha, eps, weight_decay, momentum, centered)\u001b[0m\n\u001b[1;32m    218\u001b[0m \u001b[39mif\u001b[39;00m weight_decay \u001b[39m!=\u001b[39m \u001b[39m0\u001b[39m:\n\u001b[1;32m    219\u001b[0m     grad \u001b[39m=\u001b[39m grad\u001b[39m.\u001b[39madd(param, alpha\u001b[39m=\u001b[39mweight_decay)\n\u001b[0;32m--> 221\u001b[0m square_avg\u001b[39m.\u001b[39;49mmul_(alpha)\u001b[39m.\u001b[39;49maddcmul_(grad, grad, value\u001b[39m=\u001b[39;49m\u001b[39m1\u001b[39;49m \u001b[39m-\u001b[39;49m alpha)\n\u001b[1;32m    223\u001b[0m \u001b[39mif\u001b[39;00m centered:\n\u001b[1;32m    224\u001b[0m     grad_avg \u001b[39m=\u001b[39m grad_avgs[i]\n",
      "\u001b[0;31mKeyboardInterrupt\u001b[0m: "
     ]
    }
   ],
   "source": [
    "# Hyperparameters.\n",
    "num_episodes = 1000\n",
    "epsilon = 1.0\n",
    "batch_size = 50\n",
    "discount = 0.99\n",
    "buffer = ReplayBuffer(100000, device=device)\n",
    "cur_frame = 0\n",
    "\n",
    "env = gym.make('Acrobot-v1')\n",
    "\n",
    "# Start training. Play game once and then train with a batch.\n",
    "last_100_ep_rewards = []\n",
    "for episode in range(num_episodes+1):\n",
    "  state = np.array(transformState(env.reset()[0])).astype(np.float32)\n",
    "  ep_reward, done = 0, False\n",
    "\n",
    "  if episode % 50 == 0:\n",
    "      target_nn.load_state_dict(main_nn.state_dict())\n",
    "\n",
    "  for t in range(1000):\n",
    "    state_in = torch.from_numpy(np.expand_dims(state, axis=0)).to(device)\n",
    "    action = select_epsilon_greedy_action(state_in, epsilon)\n",
    "    next_state, reward, done, truncated, info = env.step(action)\n",
    "    next_state = np.array(transformState(next_state)).astype(np.float32)\n",
    "    ep_reward += reward\n",
    "    # Save to experience replay.\n",
    "    buffer.add(state, action, reward, next_state, done)\n",
    "    state = next_state\n",
    "    cur_frame += 1\n",
    "    # Copy main_nn weights to target_nn.\n",
    "    \n",
    "    # Train neural network.\n",
    "    if len(buffer) > batch_size:\n",
    "      states, actions, rewards, next_states, dones = buffer.sample(batch_size)\n",
    "      loss = train_step(states, actions, rewards, next_states, dones)\n",
    "    if done:\n",
    "      break\n",
    "\n",
    "  if episode < 950:\n",
    "    epsilon -= 0.001\n",
    "\n",
    "  if len(last_100_ep_rewards) == 100:\n",
    "    last_100_ep_rewards = last_100_ep_rewards[1:]\n",
    "  last_100_ep_rewards.append(ep_reward)\n",
    "\n",
    "  if episode % 50 == 0:\n",
    "    print(f'Episode {episode}/{num_episodes}. Epsilon: {epsilon:.3f}.'\n",
    "          f' Reward in last 100 episodes: {np.mean(last_100_ep_rewards):.2f}')\n",
    "    \n",
    "env.close()"
   ]
  },
  {
   "cell_type": "code",
   "execution_count": 10,
   "metadata": {},
   "outputs": [
    {
     "data": {
      "image/png": "[encoded data removed]",
      "text/plain": [
       "<Figure size 640x480 with 1 Axes>"
      ]
     },
     "metadata": {},
     "output_type": "display_data"
    }
   ],
   "source": [
    "plt.figure()\n",
    "plt.plot(last_100_ep_rewards)\n",
    "plt.show()"
   ]
  },
  {
   "cell_type": "code",
   "execution_count": null,
   "metadata": {},
   "outputs": [],
   "source": []
  }
 ],
 "metadata": {
  "kernelspec": {
   "display_name": "Python 3.10.4 64-bit ('3.10.4')",
   "language": "python",
   "name": "python3"
  },
  "language_info": {
   "codemirror_mode": {
    "name": "ipython",
    "version": 3
   },
   "file_extension": ".py",
   "mimetype": "text/x-python",
   "name": "python",
   "nbconvert_exporter": "python",
   "pygments_lexer": "ipython3",
   "version": "3.10.4"
  },
  "orig_nbformat": 4,
  "vscode": {
   "interpreter": {
    "hash": "7d9d6998194bbd8c449c23903b14dd3eb7169db2c7066c14bbfe3a3189de9d7f"
   }
  }
 },
 "nbformat": 4,
 "nbformat_minor": 2
}
