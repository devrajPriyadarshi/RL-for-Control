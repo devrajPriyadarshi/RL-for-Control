{
 "cells": [
  {
   "cell_type": "code",
   "execution_count": 1,
   "id": "8d9a7e4c",
   "metadata": {},
   "outputs": [
    {
     "name": "stdout",
     "output_type": "stream",
     "text": [
      "Defaulting to user installation because normal site-packages is not writeable\n",
      "Requirement already satisfied: gym[classic_control] in /home/rahul/.local/lib/python3.6/site-packages (0.25.2)\n",
      "Requirement already satisfied: gym-notices>=0.0.4 in /home/rahul/.local/lib/python3.6/site-packages (from gym[classic_control]) (0.0.8)\n",
      "Requirement already satisfied: importlib-metadata>=4.8.0 in /home/rahul/.local/lib/python3.6/site-packages (from gym[classic_control]) (4.8.3)\n",
      "Requirement already satisfied: cloudpickle>=1.2.0 in /home/rahul/.local/lib/python3.6/site-packages (from gym[classic_control]) (2.1.0)\n",
      "Requirement already satisfied: numpy>=1.18.0 in /home/rahul/.local/lib/python3.6/site-packages (from gym[classic_control]) (1.19.5)\n",
      "Requirement already satisfied: dataclasses==0.8 in /home/rahul/.local/lib/python3.6/site-packages (from gym[classic_control]) (0.8)\n",
      "Requirement already satisfied: pygame==2.1.0 in /home/rahul/.local/lib/python3.6/site-packages (from gym[classic_control]) (2.1.0)\n",
      "Requirement already satisfied: typing-extensions>=3.6.4 in /home/rahul/.local/lib/python3.6/site-packages (from importlib-metadata>=4.8.0->gym[classic_control]) (4.1.1)\n",
      "Requirement already satisfied: zipp>=0.5 in /home/rahul/.local/lib/python3.6/site-packages (from importlib-metadata>=4.8.0->gym[classic_control]) (3.6.0)\n",
      "Defaulting to user installation because normal site-packages is not writeable\n",
      "Requirement already satisfied: tqdm in /home/rahul/.local/lib/python3.6/site-packages (4.60.0)\n",
      "Defaulting to user installation because normal site-packages is not writeable\n",
      "Requirement already satisfied: gym[box2d] in /home/rahul/.local/lib/python3.6/site-packages (0.25.2)\n",
      "Requirement already satisfied: numpy>=1.18.0 in /home/rahul/.local/lib/python3.6/site-packages (from gym[box2d]) (1.19.5)\n",
      "Requirement already satisfied: dataclasses==0.8 in /home/rahul/.local/lib/python3.6/site-packages (from gym[box2d]) (0.8)\n",
      "Requirement already satisfied: gym-notices>=0.0.4 in /home/rahul/.local/lib/python3.6/site-packages (from gym[box2d]) (0.0.8)\n",
      "Requirement already satisfied: importlib-metadata>=4.8.0 in /home/rahul/.local/lib/python3.6/site-packages (from gym[box2d]) (4.8.3)\n",
      "Requirement already satisfied: cloudpickle>=1.2.0 in /home/rahul/.local/lib/python3.6/site-packages (from gym[box2d]) (2.1.0)\n",
      "Requirement already satisfied: pygame==2.1.0 in /home/rahul/.local/lib/python3.6/site-packages (from gym[box2d]) (2.1.0)\n",
      "Requirement already satisfied: box2d-py==2.3.5 in /home/rahul/.local/lib/python3.6/site-packages (from gym[box2d]) (2.3.5)\n",
      "Requirement already satisfied: swig==4.* in /home/rahul/.local/lib/python3.6/site-packages (from gym[box2d]) (4.0.2)\n",
      "Requirement already satisfied: zipp>=0.5 in /home/rahul/.local/lib/python3.6/site-packages (from importlib-metadata>=4.8.0->gym[box2d]) (3.6.0)\n",
      "Requirement already satisfied: typing-extensions>=3.6.4 in /home/rahul/.local/lib/python3.6/site-packages (from importlib-metadata>=4.8.0->gym[box2d]) (4.1.1)\n"
     ]
    }
   ],
   "source": [
    "!pip install gym[classic_control]\n",
    "!pip install tqdm\n",
    "!pip install gym[box2d]"
   ]
  },
  {
   "cell_type": "code",
   "execution_count": 2,
   "id": "745a0ce0",
   "metadata": {},
   "outputs": [
    {
     "name": "stderr",
     "output_type": "stream",
     "text": [
      "/home/rahul/.local/lib/python3.6/site-packages/gym/core.py:26: UserWarning: \u001b[33mWARN: Gym minimally supports python 3.6 as the python foundation not longer supports the version, please update your version to 3.7+\u001b[0m\n",
      "  \"Gym minimally supports python 3.6 as the python foundation not longer supports the version, please update your version to 3.7+\"\n"
     ]
    }
   ],
   "source": [
    "import numpy as np\n",
    "import gym\n",
    "import random\n",
    "from tqdm import tqdm\n",
    "import matplotlib.pyplot as plt \n",
    "import random\n",
    "import math\n",
    "# import progressbar\n",
    "import time"
   ]
  },
  {
   "cell_type": "code",
   "execution_count": 3,
   "id": "be36f942",
   "metadata": {},
   "outputs": [],
   "source": [
    "env_name = \"Acrobot-v1\"\n",
    "render_Mode = \"human\""
   ]
  },
  {
   "cell_type": "code",
   "execution_count": 4,
   "id": "0998463c",
   "metadata": {},
   "outputs": [],
   "source": [
    "def getAngle(cos_val, sin_val):   \n",
    "    a_acos = math.acos(cos_val)\n",
    "    angle = 0\n",
    "    if sin_val < 0:\n",
    "        angle = math.degrees(-a_acos) % 360\n",
    "    else: \n",
    "        angle = math.degrees(a_acos)\n",
    "    return angle"
   ]
  },
  {
   "cell_type": "code",
   "execution_count": 5,
   "id": "3842c947",
   "metadata": {},
   "outputs": [],
   "source": [
    "def transformObs(obs):\n",
    "    ang1 = int(getAngle(obs[0], obs[1])/5)\n",
    "    ang2 = int(getAngle(obs[2], obs[3])/5)\n",
    "    new_obs = []\n",
    "    new_obs.append(ang1)\n",
    "    new_obs.append(ang2)\n",
    "    new_obs.append(int((obs[4] + 12.57)))\n",
    "    new_obs.append(int((obs[5] + 28.28)))\n",
    "    return new_obs"
   ]
  },
  {
   "cell_type": "code",
   "execution_count": 6,
   "id": "b7152713",
   "metadata": {},
   "outputs": [],
   "source": [
    "q = [[[[[0 for _ in range(3)] for _ in range(57)] for _ in range(26)] for _ in range(72)] for _ in range(72)]"
   ]
  },
  {
   "cell_type": "code",
   "execution_count": 7,
   "id": "e1addcea",
   "metadata": {},
   "outputs": [],
   "source": [
    "next_state = [[[[[(-1, -1, -1, -1) for _ in range(3)] for _ in range(57)] for _ in range(26)] for _ in range(72)] for _ in range(72)]"
   ]
  },
  {
   "cell_type": "code",
   "execution_count": 8,
   "id": "e0fe17a6",
   "metadata": {},
   "outputs": [],
   "source": [
    "gamma = 0.8\n",
    "alpha = 0.8"
   ]
  },
  {
   "cell_type": "code",
   "execution_count": 9,
   "id": "2a321e81",
   "metadata": {},
   "outputs": [],
   "source": [
    "def getAction(obs, epsilon):\n",
    "    a, b, c, d = int(obs[0]), int(obs[1]), int(obs[2]), int(obs[3]) \n",
    "    val = random.uniform(0,1)\n",
    "    if val <= epsilon:\n",
    "        return random.randint(0,2)\n",
    "    else:  \n",
    "        max_q_val = -20000000\n",
    "        req_act = 0\n",
    "        for act in range(0, 3):\n",
    "            if next_state[a][b][c][d][act] != (-1, -1, -1, -1) and q[a][b][c][d][act] >= max_q_val:\n",
    "                max_q_val = q[a][b][c][d][act]\n",
    "                req_act = act\n",
    "        return req_act "
   ]
  },
  {
   "cell_type": "code",
   "execution_count": 10,
   "id": "3cd95866",
   "metadata": {},
   "outputs": [],
   "source": [
    "def performEpisode(epsilon):\n",
    "    Acrobot = gym.make(env_name)\n",
    "#     Acrobot = gym.make(env_name, render_mode=render_Mode)\n",
    "    pre_obs = Acrobot.reset()\n",
    "    pre_obs = transformObs(pre_obs)\n",
    "    act = getAction(pre_obs, epsilon)\n",
    "    done = False\n",
    "    while not done:\n",
    "        a, b, c, d = int(pre_obs[0]), int(pre_obs[1]), int(pre_obs[2]), int(pre_obs[3]) \n",
    "        pre_obs, reward, done, info = Acrobot.step(act)\n",
    "        pre_obs = transformObs(pre_obs)\n",
    "        act_next = getAction(pre_obs, epsilon)\n",
    "        a_n, b_n, c_n, d_n = int(pre_obs[0]), int(pre_obs[1]), int(pre_obs[2]), int(pre_obs[3])\n",
    "        next_state[a][b][c][d][act] = (a_n, b_n, c_n, d_n)\n",
    "        qmax = 2\n",
    "        for action in range(3):\n",
    "            if next_state[a_n][b_n][c_n][d_n][action] != (-1, -1, -1, -1):\n",
    "                if qmax == 2:\n",
    "                    qmax = q[a_n][b_n][c_n][d_n][action]\n",
    "                else:\n",
    "                    qmax = max(qmax, q[a_n][b_n][c_n][d_n][action])\n",
    "        if qmax == 2:\n",
    "            qmax = 0\n",
    "        q[a][b][c][d][act] = q[a][b][c][d][act] + alpha*(reward + gamma*qmax - q[a][b][c][d][act])\n",
    "        act = act_next\n",
    "    Acrobot.close()"
   ]
  },
  {
   "cell_type": "code",
   "execution_count": 11,
   "id": "68537019",
   "metadata": {},
   "outputs": [],
   "source": [
    "def getReward():\n",
    "    Acrobot = gym.make(env_name)\n",
    "    pre_obs = Acrobot.reset() \n",
    "    pre_obs = transformObs(pre_obs)\n",
    "    done = False\n",
    "    tot_reward = 0\n",
    "    while not done:\n",
    "        a, b, c, d = int(pre_obs[0]), int(pre_obs[1]), int(pre_obs[2]), int(pre_obs[3])\n",
    "        req_act = getAction(pre_obs, -1)\n",
    "        pre_obs, reward, done, info = Acrobot.step(req_act)\n",
    "        tot_reward += reward\n",
    "        pre_obs = transformObs(pre_obs)   \n",
    "    Acrobot.close() \n",
    "    return tot_reward"
   ]
  },
  {
   "cell_type": "code",
   "execution_count": 12,
   "id": "95314c66",
   "metadata": {},
   "outputs": [
    {
     "name": "stderr",
     "output_type": "stream",
     "text": [
      "Loading…:   0%|                                                          | 0/100000 [00:00<?, ?it/s]/home/rahul/.local/lib/python3.6/site-packages/gym/core.py:318: DeprecationWarning: \u001b[33mWARN: Initializing wrapper in old step API which returns one bool instead of two. It is recommended to set `new_step_api=True` to use new step API. This will be the default behaviour in future.\u001b[0m\n",
      "  \"Initializing wrapper in old step API which returns one bool instead of two. It is recommended to set `new_step_api=True` to use new step API. This will be the default behaviour in future.\"\n",
      "/home/rahul/.local/lib/python3.6/site-packages/gym/wrappers/step_api_compatibility.py:40: DeprecationWarning: \u001b[33mWARN: Initializing environment in old step API which returns one bool instead of two. It is recommended to set `new_step_api=True` to use new step API. This will be the default behaviour in future.\u001b[0m\n",
      "  \"Initializing environment in old step API which returns one bool instead of two. It is recommended to set `new_step_api=True` to use new step API. This will be the default behaviour in future.\"\n",
      "Loading…: 100%|███████████████████████████████████████████| 100000/100000 [1:37:04<00:00, 17.17it/s]\n"
     ]
    }
   ],
   "source": [
    "x_rew = []\n",
    "avg_reww = []\n",
    "orig_reww = []\n",
    "epsilon_val = 0.1\n",
    "for cnt in tqdm (range (100000), desc=\"Loading…\", ascii=False, ncols=100):\n",
    "    performEpisode(epsilon_val)\n",
    "    if cnt>0 and cnt%1000 == 0:\n",
    "        rew = 0\n",
    "        orig_reww.append(getReward())\n",
    "        for _ in range(200):\n",
    "            rew += getReward()\n",
    "        avg_reww.append(rew/200)    \n",
    "        x_rew.append(cnt/1000)"
   ]
  },
  {
   "cell_type": "code",
   "execution_count": 13,
   "id": "3f5ccb1a",
   "metadata": {},
   "outputs": [
    {
     "data": {
      "image/png": "[encoded data removed]",
      "text/plain": [
       "<matplotlib.figure.Figure at 0x7f5c0cbfaa20>"
      ]
     },
     "metadata": {
      "needs_background": "light"
     },
     "output_type": "display_data"
    }
   ],
   "source": [
    "plt.plot(x_rew, avg_reww)\n",
    "plt.xlabel(\"Episodes\")\n",
    "plt.ylabel(\"Average Reward\")\n",
    "plt.show()"
   ]
  },
  {
   "cell_type": "code",
   "execution_count": 14,
   "id": "aefeccc3",
   "metadata": {},
   "outputs": [
    {
     "data": {
      "image/png": "[encoded data removed]",
      "text/plain": [
       "<matplotlib.figure.Figure at 0x7f5b9b8bb208>"
      ]
     },
     "metadata": {
      "needs_background": "light"
     },
     "output_type": "display_data"
    }
   ],
   "source": [
    "plt.plot(x_rew, orig_reww)\n",
    "plt.xlabel(\"Episodes\")\n",
    "plt.ylabel(\"Single Reward\")\n",
    "plt.show()"
   ]
  },
  {
   "cell_type": "code",
   "execution_count": 15,
   "id": "b4823c7f",
   "metadata": {},
   "outputs": [
    {
     "name": "stdout",
     "output_type": "stream",
     "text": [
      "-125.0\n"
     ]
    }
   ],
   "source": [
    "Acrobot = gym.make(env_name)\n",
    "# Acrobot = gym.make(env_name, render_mode=render_Mode)\n",
    "pre_obs = Acrobot.reset() \n",
    "pre_obs = transformObs(pre_obs)\n",
    "done = False\n",
    "reward = 0\n",
    "while not done:\n",
    "    a, b, c, d = int(pre_obs[0]), int(pre_obs[1]), int(pre_obs[2]), int(pre_obs[3])\n",
    "    act = getAction(pre_obs, -1)\n",
    "    pre_obs, rew, done, info = Acrobot.step(act)\n",
    "    pre_obs = transformObs(pre_obs)\n",
    "    reward += rew\n",
    "Acrobot.close()    \n",
    "print(reward) "
   ]
  },
  {
   "cell_type": "code",
   "execution_count": 16,
   "id": "1c8c55ba",
   "metadata": {},
   "outputs": [
    {
     "name": "stderr",
     "output_type": "stream",
     "text": [
      "Loading…: 100%|█████████████████████████████████████████████████| 1000/1000 [00:39<00:00, 25.42it/s]"
     ]
    },
    {
     "name": "stdout",
     "output_type": "stream",
     "text": [
      "Average reward: -240.319\n",
      "Highest Reward: -101.0\n",
      "Success Rate: 0.975\n",
      "[-101.0, -101.0, -102.0, -107.0, -109.0, -110.0, -115.0, -115.0, -115.0, -116.0, -116.0, -116.0, -117.0, -119.0, -120.0, -120.0, -120.0, -121.0, -121.0, -121.0, -122.0, -122.0, -123.0, -124.0, -124.0, -125.0, -127.0, -127.0, -127.0, -128.0, -128.0, -129.0, -129.0, -129.0, -129.0, -129.0, -130.0, -130.0, -130.0, -130.0, -130.0, -131.0, -131.0, -132.0, -132.0, -133.0, -133.0, -133.0, -134.0, -134.0]\n"
     ]
    },
    {
     "name": "stderr",
     "output_type": "stream",
     "text": [
      "\n"
     ]
    }
   ],
   "source": [
    "reward = 0\n",
    "min_iter = 500\n",
    "rew_list = []\n",
    "success = 0\n",
    "for _ in tqdm (range (1000), desc=\"Loading…\", ascii=False, ncols=100):\n",
    "    Acrobot = gym.make(env_name)\n",
    "    #Acrobot = gym.make(env_name, render_mode=render_Mode)\n",
    "    pre_obs = Acrobot.reset() \n",
    "    pre_obs = transformObs(pre_obs)\n",
    "    done = False\n",
    "    cur = 0\n",
    "    while not done:\n",
    "        a, b, c, d = int(pre_obs[0]), int(pre_obs[1]), int(pre_obs[2]), int(pre_obs[3])\n",
    "        act = getAction(pre_obs, -1)\n",
    "        pre_obs, rew, done, info = Acrobot.step(act)\n",
    "        pre_obs = transformObs(pre_obs)\n",
    "        cur += rew\n",
    "    reward += cur  \n",
    "    if cur > -500:\n",
    "        success += 1\n",
    "    min_iter = min(min_iter, -cur)\n",
    "    rew_list.append(cur)\n",
    "    Acrobot.close()\n",
    "rew_list.sort(reverse=True)   \n",
    "print(\"Average reward:\", reward/1000) \n",
    "print(\"Highest Reward:\", -min_iter)\n",
    "print(\"Success Rate:\", success/1000)\n",
    "print(rew_list[:50])"
   ]
  },
  {
   "cell_type": "code",
   "execution_count": 17,
   "id": "e0681e25",
   "metadata": {},
   "outputs": [
    {
     "name": "stderr",
     "output_type": "stream",
     "text": [
      "Loading…: 100%|███████████████████████████████████████████████████| 100/100 [00:03<00:00, 26.24it/s]"
     ]
    },
    {
     "name": "stdout",
     "output_type": "stream",
     "text": [
      "Average reward: -233.34\n",
      "Highest Reward: -82.0\n",
      "Success Rate: 0.99\n",
      "[-82.0, -112.0, -114.0, -119.0, -120.0, -125.0, -129.0, -130.0, -132.0, -133.0, -135.0, -139.0, -140.0, -144.0, -149.0, -149.0, -152.0, -158.0, -158.0, -163.0, -164.0, -167.0, -167.0, -167.0, -168.0, -170.0, -171.0, -173.0, -174.0, -179.0, -179.0, -181.0, -183.0, -187.0, -191.0, -191.0, -191.0, -192.0, -194.0, -194.0, -197.0, -198.0, -199.0, -199.0, -200.0, -203.0, -203.0, -205.0, -208.0, -211.0]\n"
     ]
    },
    {
     "name": "stderr",
     "output_type": "stream",
     "text": [
      "\n"
     ]
    }
   ],
   "source": [
    "reward = 0\n",
    "min_iter = 500\n",
    "rew_list = []\n",
    "success = 0\n",
    "for _ in tqdm (range (100), desc=\"Loading…\", ascii=False, ncols=100):\n",
    "    Acrobot = gym.make(env_name)\n",
    "    #Acrobot = gym.make(env_name, render_mode=render_Mode)\n",
    "    pre_obs = Acrobot.reset() \n",
    "    pre_obs = transformObs(pre_obs)\n",
    "    done = False\n",
    "    cur = 0\n",
    "    while not done:\n",
    "        a, b, c, d = int(pre_obs[0]), int(pre_obs[1]), int(pre_obs[2]), int(pre_obs[3])\n",
    "        act = getAction(pre_obs, -1)\n",
    "        pre_obs, rew, done, info = Acrobot.step(act)\n",
    "        pre_obs = transformObs(pre_obs)\n",
    "        cur += rew\n",
    "    reward += cur  \n",
    "    if cur > -500:\n",
    "        success += 1\n",
    "    min_iter = min(min_iter, -cur)\n",
    "    rew_list.append(cur)\n",
    "    Acrobot.close()\n",
    "rew_list.sort(reverse=True)   \n",
    "print(\"Average reward:\", reward/100) \n",
    "print(\"Highest Reward:\", -min_iter)\n",
    "print(\"Success Rate:\", success/100)\n",
    "print(rew_list[:50])"
   ]
  },
  {
   "cell_type": "code",
   "execution_count": 20,
   "id": "21d54258",
   "metadata": {},
   "outputs": [
    {
     "name": "stderr",
     "output_type": "stream",
     "text": [
      "Loading…: 100%|█████████████████████████████████████████████████████| 15/15 [04:15<00:00, 17.06s/it]"
     ]
    },
    {
     "name": "stdout",
     "output_type": "stream",
     "text": [
      "Average reward: -253.33333333333334\n",
      "Highest Reward: -123.0\n",
      "Success Rate: 1.0\n",
      "[-123.0, -147.0, -151.0, -187.0, -204.0, -208.0, -225.0, -236.0, -266.0, -290.0, -291.0, -341.0, -359.0, -374.0, -398.0]\n"
     ]
    },
    {
     "name": "stderr",
     "output_type": "stream",
     "text": [
      "\n"
     ]
    }
   ],
   "source": [
    "reward = 0\n",
    "min_iter = 500\n",
    "rew_list = []\n",
    "success = 0\n",
    "for _ in tqdm (range (15), desc=\"Loading…\", ascii=False, ncols=100):\n",
    "    #Acrobot = gym.make(env_name)\n",
    "    Acrobot = gym.make(env_name, render_mode=render_Mode)\n",
    "    pre_obs = Acrobot.reset() \n",
    "    pre_obs = transformObs(pre_obs)\n",
    "    done = False\n",
    "    cur = 0\n",
    "    while not done:\n",
    "        a, b, c, d = int(pre_obs[0]), int(pre_obs[1]), int(pre_obs[2]), int(pre_obs[3])\n",
    "        act = getAction(pre_obs, -1)\n",
    "        pre_obs, rew, done, info = Acrobot.step(act)\n",
    "        pre_obs = transformObs(pre_obs)\n",
    "        cur += rew\n",
    "    reward += cur  \n",
    "    if cur > -500:\n",
    "        success += 1\n",
    "    min_iter = min(min_iter, -cur)\n",
    "    rew_list.append(cur)\n",
    "    Acrobot.close()\n",
    "rew_list.sort(reverse=True)   \n",
    "print(\"Average reward:\", reward/15) \n",
    "print(\"Highest Reward:\", -min_iter)\n",
    "print(\"Success Rate:\", success/15)\n",
    "print(rew_list)"
   ]
  },
  {
   "cell_type": "code",
   "execution_count": null,
   "id": "6e180077",
   "metadata": {},
   "outputs": [],
   "source": []
  },
  {
   "cell_type": "code",
   "execution_count": null,
   "id": "5c1d13ae",
   "metadata": {},
   "outputs": [],
   "source": []
  },
  {
   "cell_type": "code",
   "execution_count": null,
   "id": "7833f09a",
   "metadata": {},
   "outputs": [],
   "source": []
  },
  {
   "cell_type": "code",
   "execution_count": null,
   "id": "42b846dc",
   "metadata": {},
   "outputs": [],
   "source": []
  }
 ],
 "metadata": {
  "kernelspec": {
   "display_name": "Python 3.10.4 64-bit ('3.10.4')",
   "language": "python",
   "name": "python3"
  },
  "language_info": {
   "codemirror_mode": {
    "name": "ipython",
    "version": 3
   },
   "file_extension": ".py",
   "mimetype": "text/x-python",
   "name": "python",
   "nbconvert_exporter": "python",
   "pygments_lexer": "ipython3",
   "version": "3.10.4"
  },
  "vscode": {
   "interpreter": {
    "hash": "7d9d6998194bbd8c449c23903b14dd3eb7169db2c7066c14bbfe3a3189de9d7f"
   }
  }
 },
 "nbformat": 4,
 "nbformat_minor": 5
}
